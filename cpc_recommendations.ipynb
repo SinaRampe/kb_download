{
  "nbformat": 4,
  "nbformat_minor": 0,
  "metadata": {
    "colab": {
      "provenance": [],
      "authorship_tag": "ABX9TyOBss45mZXmrzhauCZ7ABNI",
      "include_colab_link": true
    },
    "kernelspec": {
      "name": "python3",
      "display_name": "Python 3"
    },
    "language_info": {
      "name": "python"
    }
  },
  "cells": [
    {
      "cell_type": "markdown",
      "metadata": {
        "id": "view-in-github",
        "colab_type": "text"
      },
      "source": [
        "<a href=\"https://colab.research.google.com/github/SinaRampe/kb_download/blob/main/cpc_recommendations.ipynb\" target=\"_parent\"><img src=\"https://colab.research.google.com/assets/colab-badge.svg\" alt=\"Open In Colab\"/></a>"
      ]
    },
    {
      "cell_type": "code",
      "execution_count": 1,
      "metadata": {
        "id": "klTiCVJ_lqyl"
      },
      "outputs": [],
      "source": [
        "import requests\n",
        "import pandas as pd\n",
        "import matplotlib.pyplot as plt\n",
        "import numpy as np"
      ]
    },
    {
      "cell_type": "code",
      "source": [
        "cpic_recommendations_url = \"https://api.cpicpgx.org/v1/recommendation\"\n",
        "\n",
        "def fetch_cpic_recommendations():\n",
        "\n",
        "    response = requests.get(cpic_recommendations_url)\n",
        "    data = response.json()\n",
        "\n",
        "    return data"
      ],
      "metadata": {
        "id": "FYPD8nZAlx_K"
      },
      "execution_count": 2,
      "outputs": []
    },
    {
      "cell_type": "code",
      "source": [
        "recommendations = fetch_cpic_recommendations()"
      ],
      "metadata": {
        "id": "Ft5uccxtl-a0"
      },
      "execution_count": 4,
      "outputs": []
    },
    {
      "cell_type": "code",
      "source": [
        "df = pd.DataFrame(recommendations)"
      ],
      "metadata": {
        "id": "EaMi96PypfuN"
      },
      "execution_count": 5,
      "outputs": []
    },
    {
      "cell_type": "code",
      "source": [
        "df.shape"
      ],
      "metadata": {
        "colab": {
          "base_uri": "https://localhost:8080/"
        },
        "id": "2E1L5aat4QS7",
        "outputId": "ed34e567-1500-4120-9a34-98b1dcbbf88f"
      },
      "execution_count": 6,
      "outputs": [
        {
          "output_type": "execute_result",
          "data": {
            "text/plain": [
              "(2098, 16)"
            ]
          },
          "metadata": {},
          "execution_count": 6
        }
      ]
    },
    {
      "cell_type": "code",
      "source": [
        "df.head(2)"
      ],
      "metadata": {
        "colab": {
          "base_uri": "https://localhost:8080/",
          "height": 277
        },
        "id": "JuboK0TAplD9",
        "outputId": "fb481185-43a1-46f4-e487-d5ad5b9be052"
      },
      "execution_count": 7,
      "outputs": [
        {
          "output_type": "execute_result",
          "data": {
            "text/plain": [
              "        id  guidelineid         drugid  \\\n",
              "0  3296994       100421  RxNorm:190521   \n",
              "1  3296995       100421  RxNorm:190521   \n",
              "\n",
              "                                        implications  \\\n",
              "0  {'HLA-B': 'Low or reduced risk of abacavir hyp...   \n",
              "1  {'HLA-B': 'Significantly increased risk of aba...   \n",
              "\n",
              "                            drugrecommendation classification phenotypes  \\\n",
              "0  Use abacavir per standard dosing guidelines         Strong         {}   \n",
              "1                  Abacavir is not recommended         Strong         {}   \n",
              "\n",
              "  activityscore                       allelestatus  \\\n",
              "0            {}  {'HLA-B': 'HLA-B*57:01 negative'}   \n",
              "1            {}  {'HLA-B': 'HLA-B*57:01 positive'}   \n",
              "\n",
              "                      lookupkey population comments  version  \\\n",
              "0  {'HLA-B': '*57:01 negative'}    general      n/a        1   \n",
              "1  {'HLA-B': '*57:01 positive'}    general      n/a        1   \n",
              "\n",
              "   dosinginformation  alternatedrugavailable  otherprescribingguidance  \n",
              "0              False                   False                     False  \n",
              "1              False                   False                     False  "
            ],
            "text/html": [
              "\n",
              "  <div id=\"df-e6baeef5-3780-4e06-a007-b5e39731d205\">\n",
              "    <div class=\"colab-df-container\">\n",
              "      <div>\n",
              "<style scoped>\n",
              "    .dataframe tbody tr th:only-of-type {\n",
              "        vertical-align: middle;\n",
              "    }\n",
              "\n",
              "    .dataframe tbody tr th {\n",
              "        vertical-align: top;\n",
              "    }\n",
              "\n",
              "    .dataframe thead th {\n",
              "        text-align: right;\n",
              "    }\n",
              "</style>\n",
              "<table border=\"1\" class=\"dataframe\">\n",
              "  <thead>\n",
              "    <tr style=\"text-align: right;\">\n",
              "      <th></th>\n",
              "      <th>id</th>\n",
              "      <th>guidelineid</th>\n",
              "      <th>drugid</th>\n",
              "      <th>implications</th>\n",
              "      <th>drugrecommendation</th>\n",
              "      <th>classification</th>\n",
              "      <th>phenotypes</th>\n",
              "      <th>activityscore</th>\n",
              "      <th>allelestatus</th>\n",
              "      <th>lookupkey</th>\n",
              "      <th>population</th>\n",
              "      <th>comments</th>\n",
              "      <th>version</th>\n",
              "      <th>dosinginformation</th>\n",
              "      <th>alternatedrugavailable</th>\n",
              "      <th>otherprescribingguidance</th>\n",
              "    </tr>\n",
              "  </thead>\n",
              "  <tbody>\n",
              "    <tr>\n",
              "      <th>0</th>\n",
              "      <td>3296994</td>\n",
              "      <td>100421</td>\n",
              "      <td>RxNorm:190521</td>\n",
              "      <td>{'HLA-B': 'Low or reduced risk of abacavir hyp...</td>\n",
              "      <td>Use abacavir per standard dosing guidelines</td>\n",
              "      <td>Strong</td>\n",
              "      <td>{}</td>\n",
              "      <td>{}</td>\n",
              "      <td>{'HLA-B': 'HLA-B*57:01 negative'}</td>\n",
              "      <td>{'HLA-B': '*57:01 negative'}</td>\n",
              "      <td>general</td>\n",
              "      <td>n/a</td>\n",
              "      <td>1</td>\n",
              "      <td>False</td>\n",
              "      <td>False</td>\n",
              "      <td>False</td>\n",
              "    </tr>\n",
              "    <tr>\n",
              "      <th>1</th>\n",
              "      <td>3296995</td>\n",
              "      <td>100421</td>\n",
              "      <td>RxNorm:190521</td>\n",
              "      <td>{'HLA-B': 'Significantly increased risk of aba...</td>\n",
              "      <td>Abacavir is not recommended</td>\n",
              "      <td>Strong</td>\n",
              "      <td>{}</td>\n",
              "      <td>{}</td>\n",
              "      <td>{'HLA-B': 'HLA-B*57:01 positive'}</td>\n",
              "      <td>{'HLA-B': '*57:01 positive'}</td>\n",
              "      <td>general</td>\n",
              "      <td>n/a</td>\n",
              "      <td>1</td>\n",
              "      <td>False</td>\n",
              "      <td>False</td>\n",
              "      <td>False</td>\n",
              "    </tr>\n",
              "  </tbody>\n",
              "</table>\n",
              "</div>\n",
              "      <button class=\"colab-df-convert\" onclick=\"convertToInteractive('df-e6baeef5-3780-4e06-a007-b5e39731d205')\"\n",
              "              title=\"Convert this dataframe to an interactive table.\"\n",
              "              style=\"display:none;\">\n",
              "        \n",
              "  <svg xmlns=\"http://www.w3.org/2000/svg\" height=\"24px\"viewBox=\"0 0 24 24\"\n",
              "       width=\"24px\">\n",
              "    <path d=\"M0 0h24v24H0V0z\" fill=\"none\"/>\n",
              "    <path d=\"M18.56 5.44l.94 2.06.94-2.06 2.06-.94-2.06-.94-.94-2.06-.94 2.06-2.06.94zm-11 1L8.5 8.5l.94-2.06 2.06-.94-2.06-.94L8.5 2.5l-.94 2.06-2.06.94zm10 10l.94 2.06.94-2.06 2.06-.94-2.06-.94-.94-2.06-.94 2.06-2.06.94z\"/><path d=\"M17.41 7.96l-1.37-1.37c-.4-.4-.92-.59-1.43-.59-.52 0-1.04.2-1.43.59L10.3 9.45l-7.72 7.72c-.78.78-.78 2.05 0 2.83L4 21.41c.39.39.9.59 1.41.59.51 0 1.02-.2 1.41-.59l7.78-7.78 2.81-2.81c.8-.78.8-2.07 0-2.86zM5.41 20L4 18.59l7.72-7.72 1.47 1.35L5.41 20z\"/>\n",
              "  </svg>\n",
              "      </button>\n",
              "      \n",
              "  <style>\n",
              "    .colab-df-container {\n",
              "      display:flex;\n",
              "      flex-wrap:wrap;\n",
              "      gap: 12px;\n",
              "    }\n",
              "\n",
              "    .colab-df-convert {\n",
              "      background-color: #E8F0FE;\n",
              "      border: none;\n",
              "      border-radius: 50%;\n",
              "      cursor: pointer;\n",
              "      display: none;\n",
              "      fill: #1967D2;\n",
              "      height: 32px;\n",
              "      padding: 0 0 0 0;\n",
              "      width: 32px;\n",
              "    }\n",
              "\n",
              "    .colab-df-convert:hover {\n",
              "      background-color: #E2EBFA;\n",
              "      box-shadow: 0px 1px 2px rgba(60, 64, 67, 0.3), 0px 1px 3px 1px rgba(60, 64, 67, 0.15);\n",
              "      fill: #174EA6;\n",
              "    }\n",
              "\n",
              "    [theme=dark] .colab-df-convert {\n",
              "      background-color: #3B4455;\n",
              "      fill: #D2E3FC;\n",
              "    }\n",
              "\n",
              "    [theme=dark] .colab-df-convert:hover {\n",
              "      background-color: #434B5C;\n",
              "      box-shadow: 0px 1px 3px 1px rgba(0, 0, 0, 0.15);\n",
              "      filter: drop-shadow(0px 1px 2px rgba(0, 0, 0, 0.3));\n",
              "      fill: #FFFFFF;\n",
              "    }\n",
              "  </style>\n",
              "\n",
              "      <script>\n",
              "        const buttonEl =\n",
              "          document.querySelector('#df-e6baeef5-3780-4e06-a007-b5e39731d205 button.colab-df-convert');\n",
              "        buttonEl.style.display =\n",
              "          google.colab.kernel.accessAllowed ? 'block' : 'none';\n",
              "\n",
              "        async function convertToInteractive(key) {\n",
              "          const element = document.querySelector('#df-e6baeef5-3780-4e06-a007-b5e39731d205');\n",
              "          const dataTable =\n",
              "            await google.colab.kernel.invokeFunction('convertToInteractive',\n",
              "                                                     [key], {});\n",
              "          if (!dataTable) return;\n",
              "\n",
              "          const docLinkHtml = 'Like what you see? Visit the ' +\n",
              "            '<a target=\"_blank\" href=https://colab.research.google.com/notebooks/data_table.ipynb>data table notebook</a>'\n",
              "            + ' to learn more about interactive tables.';\n",
              "          element.innerHTML = '';\n",
              "          dataTable['output_type'] = 'display_data';\n",
              "          await google.colab.output.renderOutput(dataTable, element);\n",
              "          const docLink = document.createElement('div');\n",
              "          docLink.innerHTML = docLinkHtml;\n",
              "          element.appendChild(docLink);\n",
              "        }\n",
              "      </script>\n",
              "    </div>\n",
              "  </div>\n",
              "  "
            ]
          },
          "metadata": {},
          "execution_count": 7
        }
      ]
    },
    {
      "cell_type": "code",
      "source": [
        "unique_prefixes = set()\n",
        "\n",
        "for drug_id in df['drugid']:\n",
        "\n",
        "    prefix = drug_id.split(':')[0]\n",
        "    unique_prefixes.add(prefix)\n",
        "\n",
        "print(\"Unique prefixes in the 'drugid' column:\", unique_prefixes)"
      ],
      "metadata": {
        "colab": {
          "base_uri": "https://localhost:8080/"
        },
        "id": "60k6WIhHyXyD",
        "outputId": "96aaf36d-6cc4-4e7c-af1a-3f09056d409e"
      },
      "execution_count": 8,
      "outputs": [
        {
          "output_type": "stream",
          "name": "stdout",
          "text": [
            "Unique prefixes in the 'drugid' column: {'ATC', 'RxNorm'}\n"
          ]
        }
      ]
    },
    {
      "cell_type": "code",
      "source": [
        "def get_drug_name(drug_id):  \n",
        "\n",
        "  base_url = \"https://rxnav.nlm.nih.gov/REST\"\n",
        "\n",
        "  try:\n",
        "\n",
        "    if drug_id.startswith('RxNorm:'):\n",
        "\n",
        "        rxnorm_id = drug_id.split(':')[1]\n",
        "        url = f\"{base_url}/rxcui/{rxnorm_id}.json\"\n",
        "\n",
        "    elif drug_id.startswith('ATC:'):\n",
        "\n",
        "        atc_code = drug_id.split(':')[1]\n",
        "        url = f\"{base_url}/rxcui.json?idtype=ATC&id={atc_code}\"\n",
        "\n",
        "    response = requests.get(url)\n",
        "    \n",
        "    if response.status_code != 200:\n",
        "\n",
        "        raise Exception(f\"API request failed with status {response.status_code}\")\n",
        "\n",
        "    data = response.json()\n",
        "\n",
        "    if drug_id.startswith('RxNorm:'):\n",
        "\n",
        "        drug_name = data['idGroup']['name']\n",
        "\n",
        "    elif drug_id.startswith('ATC:'):\n",
        "\n",
        "        if 'results' not in data or len(data['results']) == 0:\n",
        "\n",
        "            raise Exception(f\"No drug name found for ATC code {atc_code}\")\n",
        "\n",
        "        drug_name = data['results'][0]['generic_name']\n",
        "\n",
        "    return drug_name\n",
        "\n",
        "  except Exception as e:\n",
        "\n",
        "    print(f\"Error for drug_id {drug_id}: {e}\")\n",
        "\n",
        "    return None"
      ],
      "metadata": {
        "id": "jezcvpo9tuNW"
      },
      "execution_count": 3,
      "outputs": []
    },
    {
      "cell_type": "code",
      "source": [
        "df['drug_name'] = np.nan\n",
        "\n",
        "for index, row in df.iterrows():\n",
        "\n",
        "    drug_id = row['drugid']\n",
        "    drug_name = get_drug_name(drug_id)\n",
        "    df.loc[index, 'drug_name'] = drug_name\n"
      ],
      "metadata": {
        "colab": {
          "base_uri": "https://localhost:8080/"
        },
        "id": "1B44YD4-rE_n",
        "outputId": "e3b2dc69-2fee-4a38-debb-9b6c869fc6e4"
      },
      "execution_count": 9,
      "outputs": [
        {
          "output_type": "stream",
          "name": "stdout",
          "text": [
            "Error for drug_id ATC:D06AX07: No drug name found for ATC code D06AX07\n",
            "Error for drug_id ATC:D06AX07: No drug name found for ATC code D06AX07\n",
            "Error for drug_id ATC:D06AX07: No drug name found for ATC code D06AX07\n",
            "Error for drug_id RxNorm:NA: API request failed with status 404\n",
            "Error for drug_id RxNorm:NA: API request failed with status 404\n",
            "Error for drug_id RxNorm:NA: API request failed with status 404\n"
          ]
        }
      ]
    },
    {
      "cell_type": "code",
      "source": [
        "classification_counts = df['classification'].value_counts()\n",
        "\n",
        "classification_counts.plot(kind='bar')\n",
        "\n",
        "plt.title('Classification Counts')\n",
        "plt.xlabel('Classification')\n",
        "plt.ylabel('Count')\n",
        "\n",
        "plt.show()"
      ],
      "metadata": {
        "colab": {
          "base_uri": "https://localhost:8080/",
          "height": 603
        },
        "id": "HVN4_IdEpl80",
        "outputId": "fb1081ab-42f0-459a-c72b-334b2ce0471e"
      },
      "execution_count": 10,
      "outputs": [
        {
          "output_type": "display_data",
          "data": {
            "text/plain": [
              "<Figure size 640x480 with 1 Axes>"
            ],
            "image/png": "[encoded data removed]"
          },
          "metadata": {}
        }
      ]
    },
    {
      "cell_type": "code",
      "source": [
        "filtered_df = df[df['classification'] == 'Strong']"
      ],
      "metadata": {
        "id": "45Uq-91eqTTM"
      },
      "execution_count": 11,
      "outputs": []
    },
    {
      "cell_type": "code",
      "source": [
        "filtered_df.shape"
      ],
      "metadata": {
        "colab": {
          "base_uri": "https://localhost:8080/"
        },
        "id": "969oMtHurRgE",
        "outputId": "1cbdc6e6-5422-43c0-d61b-d39d89e746e1"
      },
      "execution_count": 13,
      "outputs": [
        {
          "output_type": "execute_result",
          "data": {
            "text/plain": [
              "(565, 17)"
            ]
          },
          "metadata": {},
          "execution_count": 13
        }
      ]
    },
    {
      "cell_type": "code",
      "source": [
        "unique_drugids = filtered_df['drugid'].nunique()\n",
        "unique_drugids"
      ],
      "metadata": {
        "colab": {
          "base_uri": "https://localhost:8080/"
        },
        "id": "Y3rEO3TZqr4c",
        "outputId": "27d183c4-4450-4352-aa73-605fd5ff49f6"
      },
      "execution_count": 12,
      "outputs": [
        {
          "output_type": "execute_result",
          "data": {
            "text/plain": [
              "102"
            ]
          },
          "metadata": {},
          "execution_count": 12
        }
      ]
    },
    {
      "cell_type": "code",
      "source": [
        "df.to_csv('cpc_recommendations.csv')\n",
        "filtered_df.to_csv('filtered_cpc_recommendations.csv')"
      ],
      "metadata": {
        "id": "iuFkHadY6YBp"
      },
      "execution_count": null,
      "outputs": []
    }
  ]
}