{
  "nbformat": 4,
  "nbformat_minor": 0,
  "metadata": {
    "colab": {
      "provenance": [],
      "authorship_tag": "ABX9TyO6QtL/O3I2qjct5U9YMqKP",
      "include_colab_link": true
    },
    "kernelspec": {
      "name": "python3",
      "display_name": "Python 3"
    },
    "language_info": {
      "name": "python"
    }
  },
  "cells": [
    {
      "cell_type": "markdown",
      "metadata": {
        "id": "view-in-github",
        "colab_type": "text"
      },
      "source": [
        "<a href=\"https://colab.research.google.com/github/SinaRampe/kb_download/blob/main/cpic_recommendations_publications_download.ipynb\" target=\"_parent\"><img src=\"https://colab.research.google.com/assets/colab-badge.svg\" alt=\"Open In Colab\"/></a>"
      ]
    },
    {
      "cell_type": "code",
      "source": [
        "!pip install PyPDF2 -qq"
      ],
      "metadata": {
        "colab": {
          "base_uri": "https://localhost:8080/"
        },
        "id": "HARH19v6EKLw",
        "outputId": "a49751bb-46f7-448d-f6be-f6355f1a3432"
      },
      "execution_count": null,
      "outputs": [
        {
          "output_type": "stream",
          "name": "stdout",
          "text": [
            "\u001b[?25l     \u001b[90m━━━━━━━━━━━━━━━━━━━━━━━━━━━━━━━━━━━━━━━━\u001b[0m \u001b[32m0.0/232.6 kB\u001b[0m \u001b[31m?\u001b[0m eta \u001b[36m-:--:--\u001b[0m\r\u001b[2K     \u001b[91m━━━━━━━━━━━━━━━━━━━━━━━━━━━━━━━━━━━━━\u001b[0m\u001b[91m╸\u001b[0m\u001b[90m━\u001b[0m \u001b[32m225.3/232.6 kB\u001b[0m \u001b[31m7.6 MB/s\u001b[0m eta \u001b[36m0:00:01\u001b[0m\r\u001b[2K     \u001b[90m━━━━━━━━━━━━━━━━━━━━━━━━━━━━━━━━━━━━━━━\u001b[0m \u001b[32m232.6/232.6 kB\u001b[0m \u001b[31m5.7 MB/s\u001b[0m eta \u001b[36m0:00:00\u001b[0m\n",
            "\u001b[?25h"
          ]
        }
      ]
    },
    {
      "cell_type": "code",
      "execution_count": null,
      "metadata": {
        "id": "klTiCVJ_lqyl"
      },
      "outputs": [],
      "source": [
        "import requests\n",
        "import pandas as pd\n",
        "import os\n",
        "import re\n",
        "from PyPDF2 import PdfReader, PdfWriter"
      ]
    },
    {
      "cell_type": "code",
      "source": [
        "cpic_recommendations_url = \"https://api.cpicpgx.org/v1/recommendation\"\n",
        "\n",
        "def fetch_cpic_recommendations():\n",
        "\n",
        "    response = requests.get(cpic_recommendations_url)\n",
        "    data = response.json()\n",
        "\n",
        "    return data"
      ],
      "metadata": {
        "id": "FYPD8nZAlx_K"
      },
      "execution_count": null,
      "outputs": []
    },
    {
      "cell_type": "code",
      "source": [
        "recommendations = fetch_cpic_recommendations()"
      ],
      "metadata": {
        "id": "Ft5uccxtl-a0"
      },
      "execution_count": null,
      "outputs": []
    },
    {
      "cell_type": "code",
      "source": [
        "df = pd.DataFrame(recommendations)"
      ],
      "metadata": {
        "id": "EaMi96PypfuN"
      },
      "execution_count": null,
      "outputs": []
    },
    {
      "cell_type": "code",
      "source": [
        "df.shape"
      ],
      "metadata": {
        "colab": {
          "base_uri": "https://localhost:8080/"
        },
        "id": "2E1L5aat4QS7",
        "outputId": "99b1673a-de6e-4947-b268-ed2b9106d6e2"
      },
      "execution_count": null,
      "outputs": [
        {
          "output_type": "execute_result",
          "data": {
            "text/plain": [
              "(2098, 16)"
            ]
          },
          "metadata": {},
          "execution_count": 13
        }
      ]
    },
    {
      "cell_type": "code",
      "source": [
        "df.head(2)"
      ],
      "metadata": {
        "colab": {
          "base_uri": "https://localhost:8080/",
          "height": 277
        },
        "id": "JuboK0TAplD9",
        "outputId": "8bf34e00-08f7-4aaf-a5f9-c9a025a2b6be"
      },
      "execution_count": null,
      "outputs": [
        {
          "output_type": "execute_result",
          "data": {
            "text/plain": [
              "        id  guidelineid         drugid  \\\n",
              "0  3369605       100421  RxNorm:190521   \n",
              "1  3369606       100421  RxNorm:190521   \n",
              "\n",
              "                                        implications  \\\n",
              "0  {'HLA-B': 'Low or reduced risk of abacavir hyp...   \n",
              "1  {'HLA-B': 'Significantly increased risk of aba...   \n",
              "\n",
              "                            drugrecommendation classification phenotypes  \\\n",
              "0  Use abacavir per standard dosing guidelines         Strong         {}   \n",
              "1                  Abacavir is not recommended         Strong         {}   \n",
              "\n",
              "  activityscore                       allelestatus  \\\n",
              "0            {}  {'HLA-B': 'HLA-B*57:01 negative'}   \n",
              "1            {}  {'HLA-B': 'HLA-B*57:01 positive'}   \n",
              "\n",
              "                      lookupkey population comments  version  \\\n",
              "0  {'HLA-B': '*57:01 negative'}    general      n/a        1   \n",
              "1  {'HLA-B': '*57:01 positive'}    general      n/a        1   \n",
              "\n",
              "   dosinginformation  alternatedrugavailable  otherprescribingguidance  \n",
              "0              False                   False                     False  \n",
              "1              False                   False                     False  "
            ],
            "text/html": [
              "\n",
              "  <div id=\"df-79b59c76-0621-4a44-8aad-f5c185ff456b\">\n",
              "    <div class=\"colab-df-container\">\n",
              "      <div>\n",
              "<style scoped>\n",
              "    .dataframe tbody tr th:only-of-type {\n",
              "        vertical-align: middle;\n",
              "    }\n",
              "\n",
              "    .dataframe tbody tr th {\n",
              "        vertical-align: top;\n",
              "    }\n",
              "\n",
              "    .dataframe thead th {\n",
              "        text-align: right;\n",
              "    }\n",
              "</style>\n",
              "<table border=\"1\" class=\"dataframe\">\n",
              "  <thead>\n",
              "    <tr style=\"text-align: right;\">\n",
              "      <th></th>\n",
              "      <th>id</th>\n",
              "      <th>guidelineid</th>\n",
              "      <th>drugid</th>\n",
              "      <th>implications</th>\n",
              "      <th>drugrecommendation</th>\n",
              "      <th>classification</th>\n",
              "      <th>phenotypes</th>\n",
              "      <th>activityscore</th>\n",
              "      <th>allelestatus</th>\n",
              "      <th>lookupkey</th>\n",
              "      <th>population</th>\n",
              "      <th>comments</th>\n",
              "      <th>version</th>\n",
              "      <th>dosinginformation</th>\n",
              "      <th>alternatedrugavailable</th>\n",
              "      <th>otherprescribingguidance</th>\n",
              "    </tr>\n",
              "  </thead>\n",
              "  <tbody>\n",
              "    <tr>\n",
              "      <th>0</th>\n",
              "      <td>3369605</td>\n",
              "      <td>100421</td>\n",
              "      <td>RxNorm:190521</td>\n",
              "      <td>{'HLA-B': 'Low or reduced risk of abacavir hyp...</td>\n",
              "      <td>Use abacavir per standard dosing guidelines</td>\n",
              "      <td>Strong</td>\n",
              "      <td>{}</td>\n",
              "      <td>{}</td>\n",
              "      <td>{'HLA-B': 'HLA-B*57:01 negative'}</td>\n",
              "      <td>{'HLA-B': '*57:01 negative'}</td>\n",
              "      <td>general</td>\n",
              "      <td>n/a</td>\n",
              "      <td>1</td>\n",
              "      <td>False</td>\n",
              "      <td>False</td>\n",
              "      <td>False</td>\n",
              "    </tr>\n",
              "    <tr>\n",
              "      <th>1</th>\n",
              "      <td>3369606</td>\n",
              "      <td>100421</td>\n",
              "      <td>RxNorm:190521</td>\n",
              "      <td>{'HLA-B': 'Significantly increased risk of aba...</td>\n",
              "      <td>Abacavir is not recommended</td>\n",
              "      <td>Strong</td>\n",
              "      <td>{}</td>\n",
              "      <td>{}</td>\n",
              "      <td>{'HLA-B': 'HLA-B*57:01 positive'}</td>\n",
              "      <td>{'HLA-B': '*57:01 positive'}</td>\n",
              "      <td>general</td>\n",
              "      <td>n/a</td>\n",
              "      <td>1</td>\n",
              "      <td>False</td>\n",
              "      <td>False</td>\n",
              "      <td>False</td>\n",
              "    </tr>\n",
              "  </tbody>\n",
              "</table>\n",
              "</div>\n",
              "      <button class=\"colab-df-convert\" onclick=\"convertToInteractive('df-79b59c76-0621-4a44-8aad-f5c185ff456b')\"\n",
              "              title=\"Convert this dataframe to an interactive table.\"\n",
              "              style=\"display:none;\">\n",
              "        \n",
              "  <svg xmlns=\"http://www.w3.org/2000/svg\" height=\"24px\"viewBox=\"0 0 24 24\"\n",
              "       width=\"24px\">\n",
              "    <path d=\"M0 0h24v24H0V0z\" fill=\"none\"/>\n",
              "    <path d=\"M18.56 5.44l.94 2.06.94-2.06 2.06-.94-2.06-.94-.94-2.06-.94 2.06-2.06.94zm-11 1L8.5 8.5l.94-2.06 2.06-.94-2.06-.94L8.5 2.5l-.94 2.06-2.06.94zm10 10l.94 2.06.94-2.06 2.06-.94-2.06-.94-.94-2.06-.94 2.06-2.06.94z\"/><path d=\"M17.41 7.96l-1.37-1.37c-.4-.4-.92-.59-1.43-.59-.52 0-1.04.2-1.43.59L10.3 9.45l-7.72 7.72c-.78.78-.78 2.05 0 2.83L4 21.41c.39.39.9.59 1.41.59.51 0 1.02-.2 1.41-.59l7.78-7.78 2.81-2.81c.8-.78.8-2.07 0-2.86zM5.41 20L4 18.59l7.72-7.72 1.47 1.35L5.41 20z\"/>\n",
              "  </svg>\n",
              "      </button>\n",
              "      \n",
              "  <style>\n",
              "    .colab-df-container {\n",
              "      display:flex;\n",
              "      flex-wrap:wrap;\n",
              "      gap: 12px;\n",
              "    }\n",
              "\n",
              "    .colab-df-convert {\n",
              "      background-color: #E8F0FE;\n",
              "      border: none;\n",
              "      border-radius: 50%;\n",
              "      cursor: pointer;\n",
              "      display: none;\n",
              "      fill: #1967D2;\n",
              "      height: 32px;\n",
              "      padding: 0 0 0 0;\n",
              "      width: 32px;\n",
              "    }\n",
              "\n",
              "    .colab-df-convert:hover {\n",
              "      background-color: #E2EBFA;\n",
              "      box-shadow: 0px 1px 2px rgba(60, 64, 67, 0.3), 0px 1px 3px 1px rgba(60, 64, 67, 0.15);\n",
              "      fill: #174EA6;\n",
              "    }\n",
              "\n",
              "    [theme=dark] .colab-df-convert {\n",
              "      background-color: #3B4455;\n",
              "      fill: #D2E3FC;\n",
              "    }\n",
              "\n",
              "    [theme=dark] .colab-df-convert:hover {\n",
              "      background-color: #434B5C;\n",
              "      box-shadow: 0px 1px 3px 1px rgba(0, 0, 0, 0.15);\n",
              "      filter: drop-shadow(0px 1px 2px rgba(0, 0, 0, 0.3));\n",
              "      fill: #FFFFFF;\n",
              "    }\n",
              "  </style>\n",
              "\n",
              "      <script>\n",
              "        const buttonEl =\n",
              "          document.querySelector('#df-79b59c76-0621-4a44-8aad-f5c185ff456b button.colab-df-convert');\n",
              "        buttonEl.style.display =\n",
              "          google.colab.kernel.accessAllowed ? 'block' : 'none';\n",
              "\n",
              "        async function convertToInteractive(key) {\n",
              "          const element = document.querySelector('#df-79b59c76-0621-4a44-8aad-f5c185ff456b');\n",
              "          const dataTable =\n",
              "            await google.colab.kernel.invokeFunction('convertToInteractive',\n",
              "                                                     [key], {});\n",
              "          if (!dataTable) return;\n",
              "\n",
              "          const docLinkHtml = 'Like what you see? Visit the ' +\n",
              "            '<a target=\"_blank\" href=https://colab.research.google.com/notebooks/data_table.ipynb>data table notebook</a>'\n",
              "            + ' to learn more about interactive tables.';\n",
              "          element.innerHTML = '';\n",
              "          dataTable['output_type'] = 'display_data';\n",
              "          await google.colab.output.renderOutput(dataTable, element);\n",
              "          const docLink = document.createElement('div');\n",
              "          docLink.innerHTML = docLinkHtml;\n",
              "          element.appendChild(docLink);\n",
              "        }\n",
              "      </script>\n",
              "    </div>\n",
              "  </div>\n",
              "  "
            ]
          },
          "metadata": {},
          "execution_count": 14
        }
      ]
    },
    {
      "cell_type": "code",
      "source": [
        "unique_guidelineids = df['guidelineid'].unique().tolist()\n",
        "\n",
        "len(unique_guidelineids)"
      ],
      "metadata": {
        "colab": {
          "base_uri": "https://localhost:8080/"
        },
        "id": "60k6WIhHyXyD",
        "outputId": "c32e7029-025e-4bb2-8dbb-fc3a824db9a5"
      },
      "execution_count": null,
      "outputs": [
        {
          "output_type": "execute_result",
          "data": {
            "text/plain": [
              "24"
            ]
          },
          "metadata": {},
          "execution_count": 15
        }
      ]
    },
    {
      "cell_type": "code",
      "source": [
        "unique_guidelineids[0]"
      ],
      "metadata": {
        "colab": {
          "base_uri": "https://localhost:8080/"
        },
        "id": "inV9cqWMy1B1",
        "outputId": "0abec8b2-7c85-4098-f88d-49b7f49669de"
      },
      "execution_count": null,
      "outputs": [
        {
          "output_type": "execute_result",
          "data": {
            "text/plain": [
              "100421"
            ]
          },
          "metadata": {},
          "execution_count": 21
        }
      ]
    },
    {
      "cell_type": "code",
      "source": [
        "cpic_guidelines_url = \"https://api.cpicpgx.org/v1/publication?guidelineid=eq.\"\n",
        "\n",
        "def download_pdf(url, filename):\n",
        "    response = requests.get(url)\n",
        "    folder_path = \"./chic_recommendations_publications\"\n",
        "    if not os.path.exists(folder_path):\n",
        "        os.makedirs(folder_path)\n",
        "    full_path = os.path.join(folder_path, filename)\n",
        "    with open(full_path, 'wb') as f:\n",
        "        f.write(response.content)\n",
        "    return full_path\n",
        "\n",
        "def add_metadata_to_pdf(path, metadata):\n",
        "    reader = PdfReader(path)\n",
        "    writer = PdfWriter()\n",
        "    for page in reader.pages:\n",
        "        writer.add_page(page)\n",
        "    writer.add_metadata(metadata)\n",
        "    with open(path, \"wb\") as output_pdf:\n",
        "        writer.write(output_pdf)\n",
        "\n",
        "def fetch_cpic_guideline(guideline_id):\n",
        "    urls = []\n",
        "    response = requests.get(f\"{cpic_guidelines_url}{guideline_id}\")\n",
        "    data = response.json()\n",
        "\n",
        "    for item in data:\n",
        "        url = item['fulltextfile']\n",
        "        if url is not None:\n",
        "            urls.append(url)\n",
        "            safe_title = re.sub(r'[\\\\/*?:\"<>|]', \"\", item['title'])\n",
        "            filename = f\"{item['year']}_{safe_title}.pdf\"\n",
        "            path = download_pdf(url, filename)\n",
        "            metadata = {\n",
        "                '/Title': item['title'],\n",
        "                '/Author': ', '.join(item['authors']),\n",
        "                '/Subject': item['url'],\n",
        "                '/Keywords': f\"Year: {item['year']}, PMID: {item['pmid']}\"\n",
        "            }\n",
        "            add_metadata_to_pdf(path, metadata)"
      ],
      "metadata": {
        "id": "RireXzDNw6QV"
      },
      "execution_count": null,
      "outputs": []
    },
    {
      "cell_type": "code",
      "source": [
        "for i in unique_guidelineids:\n",
        "  fetch_cpic_guideline(i)"
      ],
      "metadata": {
        "id": "01bc94lnyhLR"
      },
      "execution_count": null,
      "outputs": []
    },
    {
      "cell_type": "code",
      "source": [
        "!zip -r chic_recommendations_publications.zip chic_recommendations_publications/"
      ],
      "metadata": {
        "id": "Zu1FZAcrKImv",
        "outputId": "e082c7a8-d1a9-476e-a8f5-73c927c5468e",
        "colab": {
          "base_uri": "https://localhost:8080/"
        }
      },
      "execution_count": null,
      "outputs": [
        {
          "output_type": "stream",
          "name": "stdout",
          "text": [
            "  adding: chic_recommendations_publications/ (stored 0%)\n",
            "  adding: chic_recommendations_publications/2016_Clinical Pharmacogenetics Implementation Consortium (CPIC) Guideline for CYP2D6 Genotype and Use of Ondansetron and Tropisetron.pdf (deflated 13%)\n",
            "  adding: chic_recommendations_publications/2014_Clinical Pharmacogenetics Implementation Consortium (CPIC) Guidelines for CYP2C9 and HLA-B Genotype and Phenytoin Dosing.pdf (deflated 19%)\n",
            "  adding: chic_recommendations_publications/2014_Clinical Pharmacogenetics Implementation Consortium (CPIC) guidelines for cytochrome P450 2D6 (CYP2D6) genotype and codeine therapy 2014 Update.pdf (deflated 29%)\n",
            "  adding: chic_recommendations_publications/2020_Clinical Pharmacogenetics Implementation Consortium (CPIC) Guideline for CYP2C19 and Proton Pump Inhibitor Dosing..pdf (deflated 13%)\n",
            "  adding: chic_recommendations_publications/2017_Clinical Pharmacogenetics Implementation Consortium (CPIC) Guideline for Dihydropyrimidine Dehydrogenase Genotype and Fluoropyrimidine Dosing 2017 Update.pdf (deflated 11%)\n",
            "  adding: chic_recommendations_publications/2022_Clinical Pharmacogenetics Implementation Consortium Guideline for CYP2C19 Genotype and Clopidogrel Therapy 2022 Update..pdf (deflated 14%)\n",
            "  adding: chic_recommendations_publications/2019_Clinical Pharmacogenetics Implementation Consortium (CPIC) Guideline for CYP2B6 and Efavirenz-containing Antiretroviral Therapy..pdf (deflated 14%)\n",
            "  adding: chic_recommendations_publications/2015_Clinical Pharmacogenetics Implementation Consortium (CPIC) Guideline for UGT1A1 and Atazanavir Prescribing.pdf (deflated 17%)\n",
            "  adding: chic_recommendations_publications/2015_Clinical Pharmacogenetics Implementation Consortium (CPIC) guidelines for human leukocyte antigen B (HLA-B) genotype and allopurinol dosing 2015 update.pdf (deflated 10%)\n",
            "  adding: chic_recommendations_publications/2012_Clinical Pharmacogenetics Implementation Consortium Guidelines for Human Leukocyte Antigen-B Genotype and Allopurinol Dosing.pdf (deflated 17%)\n",
            "  adding: chic_recommendations_publications/2018_Clinical Pharmacogenetics Implementation Consortium Guideline for HLA Genotype and Use of Carbamazepine and Oxcarbazepine 2017 Update..pdf (deflated 11%)\n",
            "  adding: chic_recommendations_publications/2014_Clinical Pharmacogenetics Implementation Consortium (CPIC) Guidelines for HLA-B Genotype and Abacavir Dosing 2014 update.pdf (deflated 18%)\n",
            "  adding: chic_recommendations_publications/2018_Clinical Pharmacogenetics Implementation Consortium (CPIC) guideline for thiopurine dosing based on TPMT and NUDT15 genotypes 2018 update..pdf (deflated 17%)\n",
            "  adding: chic_recommendations_publications/2012_Clinical Pharmacogenetics Implementation Consortium Guidelines for HLA-B Genotype and Abacavir Dosing.pdf (deflated 13%)\n",
            "  adding: chic_recommendations_publications/2019_Clinical Pharmacogenetics Implementation Consortium (CPIC) Guideline for CYP2D6 Genotype and Atomoxetine Therapy..pdf (deflated 9%)\n",
            "  adding: chic_recommendations_publications/2022_Expanded Clinical Pharmacogenetics Implementation Consortium (CPIC) Guideline for Medication Use in the Context of G6PD Genotype..pdf (deflated 36%)\n",
            "  adding: chic_recommendations_publications/2016_Clinical Pharmacogenetics Implementation Consortium Guideline (CPIC®) for CYP2D6 and CYP2C19 Genotypes and Dosing of Tricyclic Antidepressants 2016 Update.pdf (deflated 9%)\n",
            "  adding: chic_recommendations_publications/2020_Clinical Pharmacogenetics Implementation Consortium (CPIC) Guideline for CYP2C9 and Nonsteroidal Anti-inflammatory Drugs..pdf (deflated 14%)\n",
            "  adding: chic_recommendations_publications/2016_Clinical Pharmacogenetics Implementation Consortium (CPIC®) Guideline for CYP2C19 and Voriconazole Therapy.pdf (deflated 13%)\n",
            "  adding: chic_recommendations_publications/2023_Clinical Pharmacogenetics Implementation Consortium (CPIC) Guideline for CYP2D6, CYP2C19, CYP2B6, SLC6A4, and HTR2A Genotypes and Serotonin Reuptake Inhibitor Antidepressants..pdf (deflated 13%)\n",
            "  adding: chic_recommendations_publications/2013_Clinical Pharmacogenetics Implementation Consortium (CPIC) guidelines for cytochrome P450-2C19 (CYP2C19) genotype and clopidogrel therapy 2013 Update.pdf (deflated 20%)\n",
            "  adding: chic_recommendations_publications/2013_Clinical Pharmacogenetics Implementation Consortium Guidelines for Thiopurine Methyltransferase Genotype and Thiopurine Dosing 2013 Update.pdf (deflated 18%)\n",
            "  adding: chic_recommendations_publications/2021_Clinical Pharmacogenetics Implementation Consortium (CPIC) guideline for the use of aminoglycosides based on MT-RNR1 genotype..pdf (deflated 0%)\n",
            "  adding: chic_recommendations_publications/2014_The Clinical Pharmacogenetics Implementation Consortium (CPIC) guideline for SLCO1B1 and simvastatin-induced myopathy 2014 update.pdf (deflated 15%)\n",
            "  adding: chic_recommendations_publications/2015_Clinical pharmacogenetics implementation consortium (CPIC) guidelines for CYP3A5 genotype and tacrolimus dosing.pdf (deflated 10%)\n",
            "  adding: chic_recommendations_publications/2012_The Clinical Pharmacogenomics Implementation Consortium Guideline for SLCO1B1 and Simvastatin-Induced Myopathy.pdf (deflated 11%)\n",
            "  adding: chic_recommendations_publications/2021_Clinical Pharmacogenetics Implementation Consortium (CPIC) guideline for CYP2D6, OPRM1, and COMT genotype and select opioid therapy..pdf (deflated 13%)\n",
            "  adding: chic_recommendations_publications/2011_Clinical pharmacogenetics implementation consortium guidelines for thiopurine methyltransferase genotype and thiopurine dosing.pdf (deflated 14%)\n",
            "  adding: chic_recommendations_publications/2011_Clinical Pharmacogenetics Implementation Consortium (CPIC) Guidelines for Codeine Therapy in the Context of Cytochrome P450 2D6 (CYP2D6) Genotype.pdf (deflated 12%)\n",
            "  adding: chic_recommendations_publications/2022_The Clinical Pharmacogenetics Implementation Consortium (CPIC) guideline for SLCO1B1, ABCG2, and CYP2C9 and statin-associated musculoskeletal symptoms..pdf (deflated 11%)\n",
            "  adding: chic_recommendations_publications/2013_Clinical Pharmacogenetics Implementation Consortium Guideline for CYP2D6 and CYP2C19 Genotypes and Dosing of Tricyclic Antidepressants.pdf (deflated 19%)\n",
            "  adding: chic_recommendations_publications/2013_Clinical Pharmacogenetics Implementation Consortium Guidelines for Dihydropyrimidine Dehydrogenase Genotype and Fluoropyrimidine Dosing.pdf (deflated 11%)\n",
            "  adding: chic_recommendations_publications/2018_Clinical Pharmacogenetics Implementation Consortium (CPIC) Guideline for the use of potent volatile anesthetic agents and succinylcholine in the context of RYR1 or CACNA1S genotypes.pdf (deflated 16%)\n",
            "  adding: chic_recommendations_publications/2020_Clinical Pharmacogenetics Implementation Consortium (CPIC) Guideline for CYP2C9 and HLA-B Genotypes and Phenytoin Dosing 2020 Update..pdf (deflated 15%)\n",
            "  adding: chic_recommendations_publications/2011_Clinical Pharmacogenetics Implementation Consortium Guidelines for Cytochrome P450-2C19 (CYP2C19) Genotype and Clopidogrel Therapy.pdf (deflated 14%)\n",
            "  adding: chic_recommendations_publications/2013_Clinical Pharmacogenetics Implementation Consortium (CPIC) Guidelines for HLA-B Genotype and Carbamazepine Dosing.pdf (deflated 16%)\n",
            "  adding: chic_recommendations_publications/2018_Clinical Pharmacogenetics Implementation Consortium (CPIC) Guideline for CYP2D6 and Tamoxifen Therapy..pdf (deflated 12%)\n",
            "  adding: chic_recommendations_publications/2014_Clinical Pharmacogenetics Implementation Consortium (CPIC) Guidelines for Ivacaftor Therapy in the Context of CFTR Genotype.pdf (deflated 17%)\n"
          ]
        }
      ]
    }
  ]
}