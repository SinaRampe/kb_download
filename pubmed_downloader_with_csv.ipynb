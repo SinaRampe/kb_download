{
  "nbformat": 4,
  "nbformat_minor": 0,
  "metadata": {
    "colab": {
      "provenance": [],
      "authorship_tag": "ABX9TyOsXG5V9Xa8ny3iWFQjiINN",
      "include_colab_link": true
    },
    "kernelspec": {
      "name": "python3",
      "display_name": "Python 3"
    },
    "language_info": {
      "name": "python"
    }
  },
  "cells": [
    {
      "cell_type": "markdown",
      "metadata": {
        "id": "view-in-github",
        "colab_type": "text"
      },
      "source": [
        "<a href=\"https://colab.research.google.com/github/SinaRampe/pubmed_downloader/blob/main/pubmed_downloader_with_csv.ipynb\" target=\"_parent\"><img src=\"https://colab.research.google.com/assets/colab-badge.svg\" alt=\"Open In Colab\"/></a>"
      ]
    },
    {
      "cell_type": "markdown",
      "source": [
        "### If from an already performed PubMed search the results were saved as csv "
      ],
      "metadata": {
        "id": "UvkX5RoMhGKz"
      }
    },
    {
      "cell_type": "code",
      "execution_count": 124,
      "metadata": {
        "colab": {
          "base_uri": "https://localhost:8080/"
        },
        "id": "_gL9R-k1IJOO",
        "outputId": "08826903-11c7-4f98-d341-203fe9948f4b"
      },
      "outputs": [
        {
          "output_type": "stream",
          "name": "stdout",
          "text": [
            "Looking in indexes: https://pypi.org/simple, https://us-python.pkg.dev/colab-wheels/public/simple/\n",
            "Requirement already satisfied: metapub in /usr/local/lib/python3.10/dist-packages (0.5.5)\n",
            "Requirement already satisfied: setuptools in /usr/local/lib/python3.10/dist-packages (from metapub) (67.7.2)\n",
            "Requirement already satisfied: lxml in /usr/local/lib/python3.10/dist-packages (from metapub) (4.9.2)\n",
            "Requirement already satisfied: requests in /usr/local/lib/python3.10/dist-packages (from metapub) (2.27.1)\n",
            "Requirement already satisfied: eutils in /usr/local/lib/python3.10/dist-packages (from metapub) (0.6.0)\n",
            "Requirement already satisfied: habanero in /usr/local/lib/python3.10/dist-packages (from metapub) (1.2.3)\n",
            "Requirement already satisfied: tabulate in /usr/local/lib/python3.10/dist-packages (from metapub) (0.8.10)\n",
            "Requirement already satisfied: cssselect in /usr/local/lib/python3.10/dist-packages (from metapub) (1.2.0)\n",
            "Requirement already satisfied: unidecode in /usr/local/lib/python3.10/dist-packages (from metapub) (1.3.6)\n",
            "Requirement already satisfied: docopt in /usr/local/lib/python3.10/dist-packages (from metapub) (0.6.2)\n",
            "Requirement already satisfied: six in /usr/local/lib/python3.10/dist-packages (from metapub) (1.16.0)\n",
            "Requirement already satisfied: tox in /usr/local/lib/python3.10/dist-packages (from metapub) (4.5.1)\n",
            "Requirement already satisfied: pytest in /usr/local/lib/python3.10/dist-packages (from metapub) (7.2.2)\n",
            "Requirement already satisfied: coloredlogs in /usr/local/lib/python3.10/dist-packages (from metapub) (15.0.1)\n",
            "Requirement already satisfied: python-Levenshtein in /usr/local/lib/python3.10/dist-packages (from metapub) (0.21.0)\n",
            "Requirement already satisfied: humanfriendly>=9.1 in /usr/local/lib/python3.10/dist-packages (from coloredlogs->metapub) (10.0)\n",
            "Requirement already satisfied: pytz in /usr/local/lib/python3.10/dist-packages (from eutils->metapub) (2022.7.1)\n",
            "Requirement already satisfied: tqdm in /usr/local/lib/python3.10/dist-packages (from habanero->metapub) (4.65.0)\n",
            "Requirement already satisfied: urllib3<1.27,>=1.21.1 in /usr/local/lib/python3.10/dist-packages (from requests->metapub) (1.26.15)\n",
            "Requirement already satisfied: certifi>=2017.4.17 in /usr/local/lib/python3.10/dist-packages (from requests->metapub) (2022.12.7)\n",
            "Requirement already satisfied: charset-normalizer~=2.0.0 in /usr/local/lib/python3.10/dist-packages (from requests->metapub) (2.0.12)\n",
            "Requirement already satisfied: idna<4,>=2.5 in /usr/local/lib/python3.10/dist-packages (from requests->metapub) (3.4)\n",
            "Requirement already satisfied: attrs>=19.2.0 in /usr/local/lib/python3.10/dist-packages (from pytest->metapub) (23.1.0)\n",
            "Requirement already satisfied: iniconfig in /usr/local/lib/python3.10/dist-packages (from pytest->metapub) (2.0.0)\n",
            "Requirement already satisfied: packaging in /usr/local/lib/python3.10/dist-packages (from pytest->metapub) (23.1)\n",
            "Requirement already satisfied: pluggy<2.0,>=0.12 in /usr/local/lib/python3.10/dist-packages (from pytest->metapub) (1.0.0)\n",
            "Requirement already satisfied: exceptiongroup>=1.0.0rc8 in /usr/local/lib/python3.10/dist-packages (from pytest->metapub) (1.1.1)\n",
            "Requirement already satisfied: tomli>=1.0.0 in /usr/local/lib/python3.10/dist-packages (from pytest->metapub) (2.0.1)\n",
            "Requirement already satisfied: Levenshtein==0.21.0 in /usr/local/lib/python3.10/dist-packages (from python-Levenshtein->metapub) (0.21.0)\n",
            "Requirement already satisfied: rapidfuzz<4.0.0,>=2.3.0 in /usr/local/lib/python3.10/dist-packages (from Levenshtein==0.21.0->python-Levenshtein->metapub) (3.0.0)\n",
            "Requirement already satisfied: cachetools>=5.3 in /usr/local/lib/python3.10/dist-packages (from tox->metapub) (5.3.0)\n",
            "Requirement already satisfied: chardet>=5.1 in /usr/local/lib/python3.10/dist-packages (from tox->metapub) (5.1.0)\n",
            "Requirement already satisfied: colorama>=0.4.6 in /usr/local/lib/python3.10/dist-packages (from tox->metapub) (0.4.6)\n",
            "Requirement already satisfied: filelock>=3.11 in /usr/local/lib/python3.10/dist-packages (from tox->metapub) (3.12.0)\n",
            "Requirement already satisfied: platformdirs>=3.2 in /usr/local/lib/python3.10/dist-packages (from tox->metapub) (3.3.0)\n",
            "Requirement already satisfied: pyproject-api>=1.5.1 in /usr/local/lib/python3.10/dist-packages (from tox->metapub) (1.5.1)\n",
            "Requirement already satisfied: virtualenv>=20.21 in /usr/local/lib/python3.10/dist-packages (from tox->metapub) (20.23.0)\n",
            "Requirement already satisfied: distlib<1,>=0.3.6 in /usr/local/lib/python3.10/dist-packages (from virtualenv>=20.21->tox->metapub) (0.3.6)\n"
          ]
        }
      ],
      "source": [
        "!pip install metapub"
      ]
    },
    {
      "cell_type": "code",
      "source": [
        "import pandas as pd\n",
        "import numpy as np\n",
        "from metapub import FindIt\n",
        "import requests\n",
        "import shutil\n",
        "import os"
      ],
      "metadata": {
        "id": "WG8OLHi_IQBG"
      },
      "execution_count": 146,
      "outputs": []
    },
    {
      "cell_type": "code",
      "source": [
        "csv_data = \"csv-cpic-set\"\n",
        "df = pd.read_csv(f'{csv_data}.csv')  "
      ],
      "metadata": {
        "id": "16kRsLxRPmYl"
      },
      "execution_count": 147,
      "outputs": []
    },
    {
      "cell_type": "code",
      "source": [
        "save_directory = f\"pdfs_{csv_data}\"\n",
        "\n",
        "if not os.path.exists(save_directory):\n",
        "    os.makedirs(save_directory)"
      ],
      "metadata": {
        "id": "Q32Cux0Hz0Bq"
      },
      "execution_count": 148,
      "outputs": []
    },
    {
      "cell_type": "code",
      "source": [
        "df.head(1)"
      ],
      "metadata": {
        "colab": {
          "base_uri": "https://localhost:8080/",
          "height": 280
        },
        "id": "_-RKse6GQagH",
        "outputId": "74ef07b8-c859-4c14-d79e-f7b5be1cee97"
      },
      "execution_count": 149,
      "outputs": [
        {
          "output_type": "execute_result",
          "data": {
            "text/plain": [
              "       PMID                                              Title  \\\n",
              "0  32189324  Clinical Pharmacogenetics Implementation Conso...   \n",
              "\n",
              "                                             Authors  \\\n",
              "0  Theken KN, Lee CR, Gong L, Caudle KE, Formea C...   \n",
              "\n",
              "                                            Citation First Author  \\\n",
              "0  Clin Pharmacol Ther. 2020 Aug;108(2):191-200. ...    Theken KN   \n",
              "\n",
              "          Journal/Book  Publication Year Create Date       PMCID  \\\n",
              "0  Clin Pharmacol Ther              2020  2020/03/20  PMC8080882   \n",
              "\n",
              "       NIHMS ID               DOI  \n",
              "0  NIHMS1687646  10.1002/cpt.1830  "
            ],
            "text/html": [
              "\n",
              "  <div id=\"df-9a9911e7-b317-47ae-9051-e4cac5de26e6\">\n",
              "    <div class=\"colab-df-container\">\n",
              "      <div>\n",
              "<style scoped>\n",
              "    .dataframe tbody tr th:only-of-type {\n",
              "        vertical-align: middle;\n",
              "    }\n",
              "\n",
              "    .dataframe tbody tr th {\n",
              "        vertical-align: top;\n",
              "    }\n",
              "\n",
              "    .dataframe thead th {\n",
              "        text-align: right;\n",
              "    }\n",
              "</style>\n",
              "<table border=\"1\" class=\"dataframe\">\n",
              "  <thead>\n",
              "    <tr style=\"text-align: right;\">\n",
              "      <th></th>\n",
              "      <th>PMID</th>\n",
              "      <th>Title</th>\n",
              "      <th>Authors</th>\n",
              "      <th>Citation</th>\n",
              "      <th>First Author</th>\n",
              "      <th>Journal/Book</th>\n",
              "      <th>Publication Year</th>\n",
              "      <th>Create Date</th>\n",
              "      <th>PMCID</th>\n",
              "      <th>NIHMS ID</th>\n",
              "      <th>DOI</th>\n",
              "    </tr>\n",
              "  </thead>\n",
              "  <tbody>\n",
              "    <tr>\n",
              "      <th>0</th>\n",
              "      <td>32189324</td>\n",
              "      <td>Clinical Pharmacogenetics Implementation Conso...</td>\n",
              "      <td>Theken KN, Lee CR, Gong L, Caudle KE, Formea C...</td>\n",
              "      <td>Clin Pharmacol Ther. 2020 Aug;108(2):191-200. ...</td>\n",
              "      <td>Theken KN</td>\n",
              "      <td>Clin Pharmacol Ther</td>\n",
              "      <td>2020</td>\n",
              "      <td>2020/03/20</td>\n",
              "      <td>PMC8080882</td>\n",
              "      <td>NIHMS1687646</td>\n",
              "      <td>10.1002/cpt.1830</td>\n",
              "    </tr>\n",
              "  </tbody>\n",
              "</table>\n",
              "</div>\n",
              "      <button class=\"colab-df-convert\" onclick=\"convertToInteractive('df-9a9911e7-b317-47ae-9051-e4cac5de26e6')\"\n",
              "              title=\"Convert this dataframe to an interactive table.\"\n",
              "              style=\"display:none;\">\n",
              "        \n",
              "  <svg xmlns=\"http://www.w3.org/2000/svg\" height=\"24px\"viewBox=\"0 0 24 24\"\n",
              "       width=\"24px\">\n",
              "    <path d=\"M0 0h24v24H0V0z\" fill=\"none\"/>\n",
              "    <path d=\"M18.56 5.44l.94 2.06.94-2.06 2.06-.94-2.06-.94-.94-2.06-.94 2.06-2.06.94zm-11 1L8.5 8.5l.94-2.06 2.06-.94-2.06-.94L8.5 2.5l-.94 2.06-2.06.94zm10 10l.94 2.06.94-2.06 2.06-.94-2.06-.94-.94-2.06-.94 2.06-2.06.94z\"/><path d=\"M17.41 7.96l-1.37-1.37c-.4-.4-.92-.59-1.43-.59-.52 0-1.04.2-1.43.59L10.3 9.45l-7.72 7.72c-.78.78-.78 2.05 0 2.83L4 21.41c.39.39.9.59 1.41.59.51 0 1.02-.2 1.41-.59l7.78-7.78 2.81-2.81c.8-.78.8-2.07 0-2.86zM5.41 20L4 18.59l7.72-7.72 1.47 1.35L5.41 20z\"/>\n",
              "  </svg>\n",
              "      </button>\n",
              "      \n",
              "  <style>\n",
              "    .colab-df-container {\n",
              "      display:flex;\n",
              "      flex-wrap:wrap;\n",
              "      gap: 12px;\n",
              "    }\n",
              "\n",
              "    .colab-df-convert {\n",
              "      background-color: #E8F0FE;\n",
              "      border: none;\n",
              "      border-radius: 50%;\n",
              "      cursor: pointer;\n",
              "      display: none;\n",
              "      fill: #1967D2;\n",
              "      height: 32px;\n",
              "      padding: 0 0 0 0;\n",
              "      width: 32px;\n",
              "    }\n",
              "\n",
              "    .colab-df-convert:hover {\n",
              "      background-color: #E2EBFA;\n",
              "      box-shadow: 0px 1px 2px rgba(60, 64, 67, 0.3), 0px 1px 3px 1px rgba(60, 64, 67, 0.15);\n",
              "      fill: #174EA6;\n",
              "    }\n",
              "\n",
              "    [theme=dark] .colab-df-convert {\n",
              "      background-color: #3B4455;\n",
              "      fill: #D2E3FC;\n",
              "    }\n",
              "\n",
              "    [theme=dark] .colab-df-convert:hover {\n",
              "      background-color: #434B5C;\n",
              "      box-shadow: 0px 1px 3px 1px rgba(0, 0, 0, 0.15);\n",
              "      filter: drop-shadow(0px 1px 2px rgba(0, 0, 0, 0.3));\n",
              "      fill: #FFFFFF;\n",
              "    }\n",
              "  </style>\n",
              "\n",
              "      <script>\n",
              "        const buttonEl =\n",
              "          document.querySelector('#df-9a9911e7-b317-47ae-9051-e4cac5de26e6 button.colab-df-convert');\n",
              "        buttonEl.style.display =\n",
              "          google.colab.kernel.accessAllowed ? 'block' : 'none';\n",
              "\n",
              "        async function convertToInteractive(key) {\n",
              "          const element = document.querySelector('#df-9a9911e7-b317-47ae-9051-e4cac5de26e6');\n",
              "          const dataTable =\n",
              "            await google.colab.kernel.invokeFunction('convertToInteractive',\n",
              "                                                     [key], {});\n",
              "          if (!dataTable) return;\n",
              "\n",
              "          const docLinkHtml = 'Like what you see? Visit the ' +\n",
              "            '<a target=\"_blank\" href=https://colab.research.google.com/notebooks/data_table.ipynb>data table notebook</a>'\n",
              "            + ' to learn more about interactive tables.';\n",
              "          element.innerHTML = '';\n",
              "          dataTable['output_type'] = 'display_data';\n",
              "          await google.colab.output.renderOutput(dataTable, element);\n",
              "          const docLink = document.createElement('div');\n",
              "          docLink.innerHTML = docLinkHtml;\n",
              "          element.appendChild(docLink);\n",
              "        }\n",
              "      </script>\n",
              "    </div>\n",
              "  </div>\n",
              "  "
            ]
          },
          "metadata": {},
          "execution_count": 149
        }
      ]
    },
    {
      "cell_type": "code",
      "source": [
        "pmids = df['PMID'].tolist()"
      ],
      "metadata": {
        "id": "blA6o4m3Qs32"
      },
      "execution_count": 150,
      "outputs": []
    },
    {
      "cell_type": "code",
      "source": [
        "len(pmids)"
      ],
      "metadata": {
        "colab": {
          "base_uri": "https://localhost:8080/"
        },
        "id": "KJrfyeV3Uj4K",
        "outputId": "10b72656-aede-4443-d82c-d3c293cf8cd0"
      },
      "execution_count": 151,
      "outputs": [
        {
          "output_type": "execute_result",
          "data": {
            "text/plain": [
              "139"
            ]
          },
          "metadata": {},
          "execution_count": 151
        }
      ]
    },
    {
      "cell_type": "code",
      "source": [
        "def get_article_data(pmid):\n",
        "    data = {\"PMID\": str(pmid)}\n",
        "    \n",
        "    try:\n",
        "        article = fetch.article_by_pmid(pmid)\n",
        "        \n",
        "        data.update({\n",
        "            \"Title\": article.title,\n",
        "            \"Abstract\": article.abstract,\n",
        "            \"Author\": article.authors,\n",
        "            \"Year\": article.year,\n",
        "            \"Volume\": article.volume,\n",
        "            \"Issue\": article.issue,\n",
        "            \"Journal\": article.journal,\n",
        "            \"Citation\": article.citation,\n",
        "            \"Link\": f\"https://pubmed.ncbi.nlm.nih.gov/{pmid}/\",\n",
        "            \"EutilsNCBIError\": 0\n",
        "        })\n",
        "\n",
        "    except Exception:\n",
        "        data[\"AnyError\"] = 1\n",
        "\n",
        "    return data\n"
      ],
      "metadata": {
        "id": "daszBQ0PZWDM"
      },
      "execution_count": 153,
      "outputs": []
    },
    {
      "cell_type": "code",
      "source": [
        "collected_data = []\n",
        "\n",
        "for pmid in pmids:\n",
        "    data = get_article_data(pmid)\n",
        "    collected_data.append(data)\n",
        "\n",
        "df = pd.DataFrame(collected_data)\n",
        "\n",
        "columns_to_fill = [\"Title\", \"Abstract\", \"Author\", \"Year\", \"Volume\", \"Issue\", \"Journal\", \"Citation\", \"Link\"]\n",
        "df.loc[df[\"EutilsNCBIError\"] == 1, columns_to_fill] = np.nan\n"
      ],
      "metadata": {
        "id": "g5bAfl4LZfSn"
      },
      "execution_count": 154,
      "outputs": []
    },
    {
      "cell_type": "code",
      "source": [
        "df = pd.DataFrame(collected_data)"
      ],
      "metadata": {
        "id": "RSUakmSo3bHx"
      },
      "execution_count": 155,
      "outputs": []
    },
    {
      "cell_type": "code",
      "source": [
        "df.tail(1)"
      ],
      "metadata": {
        "colab": {
          "base_uri": "https://localhost:8080/",
          "height": 229
        },
        "id": "7umfarq29OHO",
        "outputId": "e650eeb5-9027-4001-dbe0-73b1eca80d0d"
      },
      "execution_count": 161,
      "outputs": [
        {
          "output_type": "execute_result",
          "data": {
            "text/plain": [
              "         PMID                                              Title  \\\n",
              "138  29328959  Impact of individual and neighborhood factors ...   \n",
              "\n",
              "                                              Abstract  \\\n",
              "138  BACKGROUND: We addressed the hypothesis that i...   \n",
              "\n",
              "                                                Author  Year Volume Issue  \\\n",
              "138  [DeRouen MC, Schupp CW, Koo J, Yang J, Hertz A...  2018     53  None   \n",
              "\n",
              "              Journal                                           Citation  \\\n",
              "138  Cancer Epidemiol  DeRouen MC, et al. Impact of individual and ne...   \n",
              "\n",
              "                                          Link  EutilsNCBIError  \n",
              "138  https://pubmed.ncbi.nlm.nih.gov/29328959/                0  "
            ],
            "text/html": [
              "\n",
              "  <div id=\"df-fd18c338-4cfc-4e65-bd97-dae22a896458\">\n",
              "    <div class=\"colab-df-container\">\n",
              "      <div>\n",
              "<style scoped>\n",
              "    .dataframe tbody tr th:only-of-type {\n",
              "        vertical-align: middle;\n",
              "    }\n",
              "\n",
              "    .dataframe tbody tr th {\n",
              "        vertical-align: top;\n",
              "    }\n",
              "\n",
              "    .dataframe thead th {\n",
              "        text-align: right;\n",
              "    }\n",
              "</style>\n",
              "<table border=\"1\" class=\"dataframe\">\n",
              "  <thead>\n",
              "    <tr style=\"text-align: right;\">\n",
              "      <th></th>\n",
              "      <th>PMID</th>\n",
              "      <th>Title</th>\n",
              "      <th>Abstract</th>\n",
              "      <th>Author</th>\n",
              "      <th>Year</th>\n",
              "      <th>Volume</th>\n",
              "      <th>Issue</th>\n",
              "      <th>Journal</th>\n",
              "      <th>Citation</th>\n",
              "      <th>Link</th>\n",
              "      <th>EutilsNCBIError</th>\n",
              "    </tr>\n",
              "  </thead>\n",
              "  <tbody>\n",
              "    <tr>\n",
              "      <th>138</th>\n",
              "      <td>29328959</td>\n",
              "      <td>Impact of individual and neighborhood factors ...</td>\n",
              "      <td>BACKGROUND: We addressed the hypothesis that i...</td>\n",
              "      <td>[DeRouen MC, Schupp CW, Koo J, Yang J, Hertz A...</td>\n",
              "      <td>2018</td>\n",
              "      <td>53</td>\n",
              "      <td>None</td>\n",
              "      <td>Cancer Epidemiol</td>\n",
              "      <td>DeRouen MC, et al. Impact of individual and ne...</td>\n",
              "      <td>https://pubmed.ncbi.nlm.nih.gov/29328959/</td>\n",
              "      <td>0</td>\n",
              "    </tr>\n",
              "  </tbody>\n",
              "</table>\n",
              "</div>\n",
              "      <button class=\"colab-df-convert\" onclick=\"convertToInteractive('df-fd18c338-4cfc-4e65-bd97-dae22a896458')\"\n",
              "              title=\"Convert this dataframe to an interactive table.\"\n",
              "              style=\"display:none;\">\n",
              "        \n",
              "  <svg xmlns=\"http://www.w3.org/2000/svg\" height=\"24px\"viewBox=\"0 0 24 24\"\n",
              "       width=\"24px\">\n",
              "    <path d=\"M0 0h24v24H0V0z\" fill=\"none\"/>\n",
              "    <path d=\"M18.56 5.44l.94 2.06.94-2.06 2.06-.94-2.06-.94-.94-2.06-.94 2.06-2.06.94zm-11 1L8.5 8.5l.94-2.06 2.06-.94-2.06-.94L8.5 2.5l-.94 2.06-2.06.94zm10 10l.94 2.06.94-2.06 2.06-.94-2.06-.94-.94-2.06-.94 2.06-2.06.94z\"/><path d=\"M17.41 7.96l-1.37-1.37c-.4-.4-.92-.59-1.43-.59-.52 0-1.04.2-1.43.59L10.3 9.45l-7.72 7.72c-.78.78-.78 2.05 0 2.83L4 21.41c.39.39.9.59 1.41.59.51 0 1.02-.2 1.41-.59l7.78-7.78 2.81-2.81c.8-.78.8-2.07 0-2.86zM5.41 20L4 18.59l7.72-7.72 1.47 1.35L5.41 20z\"/>\n",
              "  </svg>\n",
              "      </button>\n",
              "      \n",
              "  <style>\n",
              "    .colab-df-container {\n",
              "      display:flex;\n",
              "      flex-wrap:wrap;\n",
              "      gap: 12px;\n",
              "    }\n",
              "\n",
              "    .colab-df-convert {\n",
              "      background-color: #E8F0FE;\n",
              "      border: none;\n",
              "      border-radius: 50%;\n",
              "      cursor: pointer;\n",
              "      display: none;\n",
              "      fill: #1967D2;\n",
              "      height: 32px;\n",
              "      padding: 0 0 0 0;\n",
              "      width: 32px;\n",
              "    }\n",
              "\n",
              "    .colab-df-convert:hover {\n",
              "      background-color: #E2EBFA;\n",
              "      box-shadow: 0px 1px 2px rgba(60, 64, 67, 0.3), 0px 1px 3px 1px rgba(60, 64, 67, 0.15);\n",
              "      fill: #174EA6;\n",
              "    }\n",
              "\n",
              "    [theme=dark] .colab-df-convert {\n",
              "      background-color: #3B4455;\n",
              "      fill: #D2E3FC;\n",
              "    }\n",
              "\n",
              "    [theme=dark] .colab-df-convert:hover {\n",
              "      background-color: #434B5C;\n",
              "      box-shadow: 0px 1px 3px 1px rgba(0, 0, 0, 0.15);\n",
              "      filter: drop-shadow(0px 1px 2px rgba(0, 0, 0, 0.3));\n",
              "      fill: #FFFFFF;\n",
              "    }\n",
              "  </style>\n",
              "\n",
              "      <script>\n",
              "        const buttonEl =\n",
              "          document.querySelector('#df-fd18c338-4cfc-4e65-bd97-dae22a896458 button.colab-df-convert');\n",
              "        buttonEl.style.display =\n",
              "          google.colab.kernel.accessAllowed ? 'block' : 'none';\n",
              "\n",
              "        async function convertToInteractive(key) {\n",
              "          const element = document.querySelector('#df-fd18c338-4cfc-4e65-bd97-dae22a896458');\n",
              "          const dataTable =\n",
              "            await google.colab.kernel.invokeFunction('convertToInteractive',\n",
              "                                                     [key], {});\n",
              "          if (!dataTable) return;\n",
              "\n",
              "          const docLinkHtml = 'Like what you see? Visit the ' +\n",
              "            '<a target=\"_blank\" href=https://colab.research.google.com/notebooks/data_table.ipynb>data table notebook</a>'\n",
              "            + ' to learn more about interactive tables.';\n",
              "          element.innerHTML = '';\n",
              "          dataTable['output_type'] = 'display_data';\n",
              "          await google.colab.output.renderOutput(dataTable, element);\n",
              "          const docLink = document.createElement('div');\n",
              "          docLink.innerHTML = docLinkHtml;\n",
              "          element.appendChild(docLink);\n",
              "        }\n",
              "      </script>\n",
              "    </div>\n",
              "  </div>\n",
              "  "
            ]
          },
          "metadata": {},
          "execution_count": 161
        }
      ]
    },
    {
      "cell_type": "code",
      "source": [
        "pdf_url_or_reason = []\n",
        "pdf_url_available = []"
      ],
      "metadata": {
        "id": "fv74fm_XAtUs"
      },
      "execution_count": 167,
      "outputs": []
    },
    {
      "cell_type": "code",
      "source": [
        "for pmid in pmids:\n",
        "\n",
        "  src = FindIt(pmid)\n",
        "\n",
        "  if src.url is None:\n",
        "    pdf_url_or_reason.append(src.reason)\n",
        "    pdf_url_available.append(0)\n",
        "\n",
        "  else: \n",
        "    pdf_url_or_reason.append(src.url)\n",
        "    pdf_url_available.append(1)\n",
        "    response = requests.get(src.url, allow_redirects=True)\n",
        "\n",
        "    with open(os.path.join(save_directory, f\"{pmid}.pdf\"), 'wb') as f:\n",
        "      f.write(response.content)"
      ],
      "metadata": {
        "id": "T-MJmsGe-AFi"
      },
      "execution_count": 168,
      "outputs": []
    },
    {
      "cell_type": "code",
      "source": [
        "len(pdf_url_available)"
      ],
      "metadata": {
        "colab": {
          "base_uri": "https://localhost:8080/"
        },
        "id": "AMbQEgiblAgY",
        "outputId": "50297d86-5854-4ab9-a410-153a099fc164"
      },
      "execution_count": 169,
      "outputs": [
        {
          "output_type": "execute_result",
          "data": {
            "text/plain": [
              "139"
            ]
          },
          "metadata": {},
          "execution_count": 169
        }
      ]
    },
    {
      "cell_type": "code",
      "source": [
        "df[\"pdf-url\"] = pdf_url_or_reason\n",
        "df[\"pdf_url_available\"] = pdf_url_available"
      ],
      "metadata": {
        "id": "iKGESj4HA9zN"
      },
      "execution_count": 170,
      "outputs": []
    },
    {
      "cell_type": "code",
      "source": [
        "df.to_csv(f'{csv_data}_articledetails.csv')"
      ],
      "metadata": {
        "id": "zxiMS1BY9gmw"
      },
      "execution_count": 171,
      "outputs": []
    },
    {
      "cell_type": "code",
      "source": [
        "save_directory"
      ],
      "metadata": {
        "colab": {
          "base_uri": "https://localhost:8080/",
          "height": 35
        },
        "id": "kY_j71v_mhV-",
        "outputId": "5b165ae3-5888-477a-932d-2beda20144a1"
      },
      "execution_count": 174,
      "outputs": [
        {
          "output_type": "execute_result",
          "data": {
            "text/plain": [
              "'pdfs_csv-cpic-set'"
            ],
            "application/vnd.google.colaboratory.intrinsic+json": {
              "type": "string"
            }
          },
          "metadata": {},
          "execution_count": 174
        }
      ]
    },
    {
      "cell_type": "code",
      "source": [
        "!ls -l \"pdfs_csv-cpic-set\" | grep -v '^d' | wc -l"
      ],
      "metadata": {
        "colab": {
          "base_uri": "https://localhost:8080/"
        },
        "id": "rVqGmarOmD61",
        "outputId": "6579719b-ff64-4f17-a2e7-7917b29ee104"
      },
      "execution_count": 175,
      "outputs": [
        {
          "output_type": "stream",
          "name": "stdout",
          "text": [
            "110\n"
          ]
        }
      ]
    },
    {
      "cell_type": "markdown",
      "source": [
        "other resources for ideas how to extend my code\n",
        "\n",
        "https://github.com/billgreenwald/Pubmed-Batch-Download\n",
        "\n",
        "https://github.com/ddomingof/PubMed2PDF"
      ],
      "metadata": {
        "id": "FpsVQ_dRHpU0"
      }
    }
  ]
}