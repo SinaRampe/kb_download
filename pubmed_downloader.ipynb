{
  "nbformat": 4,
  "nbformat_minor": 0,
  "metadata": {
    "colab": {
      "provenance": [],
      "authorship_tag": "ABX9TyPyiIlY1XaLfi7qTwVWlhlt",
      "include_colab_link": true
    },
    "kernelspec": {
      "name": "python3",
      "display_name": "Python 3"
    },
    "language_info": {
      "name": "python"
    }
  },
  "cells": [
    {
      "cell_type": "markdown",
      "metadata": {
        "id": "view-in-github",
        "colab_type": "text"
      },
      "source": [
        "<a href=\"https://colab.research.google.com/github/SinaRampe/pubmed_downloader/blob/main/pubmed_downloader.ipynb\" target=\"_parent\"><img src=\"https://colab.research.google.com/assets/colab-badge.svg\" alt=\"Open In Colab\"/></a>"
      ]
    },
    {
      "cell_type": "code",
      "execution_count": 1,
      "metadata": {
        "colab": {
          "base_uri": "https://localhost:8080/"
        },
        "id": "_gL9R-k1IJOO",
        "outputId": "8f7fe8ac-fb49-43a9-8b64-bb01f6c8158a"
      },
      "outputs": [
        {
          "output_type": "stream",
          "name": "stdout",
          "text": [
            "Looking in indexes: https://pypi.org/simple, https://us-python.pkg.dev/colab-wheels/public/simple/\n",
            "Collecting metapub\n",
            "  Downloading metapub-0.5.5.tar.gz (120 kB)\n",
            "\u001b[2K     \u001b[90m━━━━━━━━━━━━━━━━━━━━━━━━━━━━━━━━━━━━━━━\u001b[0m \u001b[32m120.3/120.3 kB\u001b[0m \u001b[31m4.9 MB/s\u001b[0m eta \u001b[36m0:00:00\u001b[0m\n",
            "\u001b[?25h  Preparing metadata (setup.py) ... \u001b[?25l\u001b[?25hdone\n",
            "Requirement already satisfied: setuptools in /usr/local/lib/python3.10/dist-packages (from metapub) (67.7.2)\n",
            "Requirement already satisfied: lxml in /usr/local/lib/python3.10/dist-packages (from metapub) (4.9.2)\n",
            "Requirement already satisfied: requests in /usr/local/lib/python3.10/dist-packages (from metapub) (2.27.1)\n",
            "Collecting eutils (from metapub)\n",
            "  Downloading eutils-0.6.0-py2.py3-none-any.whl (41 kB)\n",
            "\u001b[2K     \u001b[90m━━━━━━━━━━━━━━━━━━━━━━━━━━━━━━━━━━━━━━━━\u001b[0m \u001b[32m41.9/41.9 kB\u001b[0m \u001b[31m6.0 MB/s\u001b[0m eta \u001b[36m0:00:00\u001b[0m\n",
            "\u001b[?25hCollecting habanero (from metapub)\n",
            "  Downloading habanero-1.2.3-py2.py3-none-any.whl (30 kB)\n",
            "Requirement already satisfied: tabulate in /usr/local/lib/python3.10/dist-packages (from metapub) (0.8.10)\n",
            "Collecting cssselect (from metapub)\n",
            "  Downloading cssselect-1.2.0-py2.py3-none-any.whl (18 kB)\n",
            "Collecting unidecode (from metapub)\n",
            "  Downloading Unidecode-1.3.6-py3-none-any.whl (235 kB)\n",
            "\u001b[2K     \u001b[90m━━━━━━━━━━━━━━━━━━━━━━━━━━━━━━━━━━━━━━\u001b[0m \u001b[32m235.9/235.9 kB\u001b[0m \u001b[31m15.1 MB/s\u001b[0m eta \u001b[36m0:00:00\u001b[0m\n",
            "\u001b[?25hCollecting docopt (from metapub)\n",
            "  Downloading docopt-0.6.2.tar.gz (25 kB)\n",
            "  Preparing metadata (setup.py) ... \u001b[?25l\u001b[?25hdone\n",
            "Requirement already satisfied: six in /usr/local/lib/python3.10/dist-packages (from metapub) (1.16.0)\n",
            "Collecting tox (from metapub)\n",
            "  Downloading tox-4.5.1-py3-none-any.whl (148 kB)\n",
            "\u001b[2K     \u001b[90m━━━━━━━━━━━━━━━━━━━━━━━━━━━━━━━━━━━━━━\u001b[0m \u001b[32m149.0/149.0 kB\u001b[0m \u001b[31m21.4 MB/s\u001b[0m eta \u001b[36m0:00:00\u001b[0m\n",
            "\u001b[?25hRequirement already satisfied: pytest in /usr/local/lib/python3.10/dist-packages (from metapub) (7.2.2)\n",
            "Collecting coloredlogs (from metapub)\n",
            "  Downloading coloredlogs-15.0.1-py2.py3-none-any.whl (46 kB)\n",
            "\u001b[2K     \u001b[90m━━━━━━━━━━━━━━━━━━━━━━━━━━━━━━━━━━━━━━━━\u001b[0m \u001b[32m46.0/46.0 kB\u001b[0m \u001b[31m6.7 MB/s\u001b[0m eta \u001b[36m0:00:00\u001b[0m\n",
            "\u001b[?25hCollecting python-Levenshtein (from metapub)\n",
            "  Downloading python_Levenshtein-0.21.0-py3-none-any.whl (9.4 kB)\n",
            "Collecting humanfriendly>=9.1 (from coloredlogs->metapub)\n",
            "  Downloading humanfriendly-10.0-py2.py3-none-any.whl (86 kB)\n",
            "\u001b[2K     \u001b[90m━━━━━━━━━━━━━━━━━━━━━━━━━━━━━━━━━━━━━━━━\u001b[0m \u001b[32m86.8/86.8 kB\u001b[0m \u001b[31m11.2 MB/s\u001b[0m eta \u001b[36m0:00:00\u001b[0m\n",
            "\u001b[?25hRequirement already satisfied: pytz in /usr/local/lib/python3.10/dist-packages (from eutils->metapub) (2022.7.1)\n",
            "Requirement already satisfied: tqdm in /usr/local/lib/python3.10/dist-packages (from habanero->metapub) (4.65.0)\n",
            "Requirement already satisfied: urllib3<1.27,>=1.21.1 in /usr/local/lib/python3.10/dist-packages (from requests->metapub) (1.26.15)\n",
            "Requirement already satisfied: certifi>=2017.4.17 in /usr/local/lib/python3.10/dist-packages (from requests->metapub) (2022.12.7)\n",
            "Requirement already satisfied: charset-normalizer~=2.0.0 in /usr/local/lib/python3.10/dist-packages (from requests->metapub) (2.0.12)\n",
            "Requirement already satisfied: idna<4,>=2.5 in /usr/local/lib/python3.10/dist-packages (from requests->metapub) (3.4)\n",
            "Requirement already satisfied: attrs>=19.2.0 in /usr/local/lib/python3.10/dist-packages (from pytest->metapub) (23.1.0)\n",
            "Requirement already satisfied: iniconfig in /usr/local/lib/python3.10/dist-packages (from pytest->metapub) (2.0.0)\n",
            "Requirement already satisfied: packaging in /usr/local/lib/python3.10/dist-packages (from pytest->metapub) (23.1)\n",
            "Requirement already satisfied: pluggy<2.0,>=0.12 in /usr/local/lib/python3.10/dist-packages (from pytest->metapub) (1.0.0)\n",
            "Requirement already satisfied: exceptiongroup>=1.0.0rc8 in /usr/local/lib/python3.10/dist-packages (from pytest->metapub) (1.1.1)\n",
            "Requirement already satisfied: tomli>=1.0.0 in /usr/local/lib/python3.10/dist-packages (from pytest->metapub) (2.0.1)\n",
            "Collecting Levenshtein==0.21.0 (from python-Levenshtein->metapub)\n",
            "  Downloading Levenshtein-0.21.0-cp310-cp310-manylinux_2_17_x86_64.manylinux2014_x86_64.whl (174 kB)\n",
            "\u001b[2K     \u001b[90m━━━━━━━━━━━━━━━━━━━━━━━━━━━━━━━━━━━━━━\u001b[0m \u001b[32m174.1/174.1 kB\u001b[0m \u001b[31m22.1 MB/s\u001b[0m eta \u001b[36m0:00:00\u001b[0m\n",
            "\u001b[?25hCollecting rapidfuzz<4.0.0,>=2.3.0 (from Levenshtein==0.21.0->python-Levenshtein->metapub)\n",
            "  Downloading rapidfuzz-3.0.0-cp310-cp310-manylinux_2_17_x86_64.manylinux2014_x86_64.whl (3.0 MB)\n",
            "\u001b[2K     \u001b[90m━━━━━━━━━━━━━━━━━━━━━━━━━━━━━━━━━━━━━━━━\u001b[0m \u001b[32m3.0/3.0 MB\u001b[0m \u001b[31m64.7 MB/s\u001b[0m eta \u001b[36m0:00:00\u001b[0m\n",
            "\u001b[?25hRequirement already satisfied: cachetools>=5.3 in /usr/local/lib/python3.10/dist-packages (from tox->metapub) (5.3.0)\n",
            "Collecting chardet>=5.1 (from tox->metapub)\n",
            "  Downloading chardet-5.1.0-py3-none-any.whl (199 kB)\n",
            "\u001b[2K     \u001b[90m━━━━━━━━━━━━━━━━━━━━━━━━━━━━━━━━━━━━━━\u001b[0m \u001b[32m199.1/199.1 kB\u001b[0m \u001b[31m25.2 MB/s\u001b[0m eta \u001b[36m0:00:00\u001b[0m\n",
            "\u001b[?25hCollecting colorama>=0.4.6 (from tox->metapub)\n",
            "  Downloading colorama-0.4.6-py2.py3-none-any.whl (25 kB)\n",
            "Requirement already satisfied: filelock>=3.11 in /usr/local/lib/python3.10/dist-packages (from tox->metapub) (3.12.0)\n",
            "Requirement already satisfied: platformdirs>=3.2 in /usr/local/lib/python3.10/dist-packages (from tox->metapub) (3.3.0)\n",
            "Collecting pyproject-api>=1.5.1 (from tox->metapub)\n",
            "  Downloading pyproject_api-1.5.1-py3-none-any.whl (12 kB)\n",
            "Collecting virtualenv>=20.21 (from tox->metapub)\n",
            "  Downloading virtualenv-20.23.0-py3-none-any.whl (3.3 MB)\n",
            "\u001b[2K     \u001b[90m━━━━━━━━━━━━━━━━━━━━━━━━━━━━━━━━━━━━━━━━\u001b[0m \u001b[32m3.3/3.3 MB\u001b[0m \u001b[31m69.1 MB/s\u001b[0m eta \u001b[36m0:00:00\u001b[0m\n",
            "\u001b[?25hCollecting distlib<1,>=0.3.6 (from virtualenv>=20.21->tox->metapub)\n",
            "  Downloading distlib-0.3.6-py2.py3-none-any.whl (468 kB)\n",
            "\u001b[2K     \u001b[90m━━━━━━━━━━━━━━━━━━━━━━━━━━━━━━━━━━━━━━\u001b[0m \u001b[32m468.5/468.5 kB\u001b[0m \u001b[31m44.4 MB/s\u001b[0m eta \u001b[36m0:00:00\u001b[0m\n",
            "\u001b[?25hBuilding wheels for collected packages: metapub, docopt\n",
            "  Building wheel for metapub (setup.py) ... \u001b[?25l\u001b[?25hdone\n",
            "  Created wheel for metapub: filename=metapub-0.5.5-py3-none-any.whl size=135353 sha256=c37a7c55bafce70c467dfd397210eca9c2ce4c46c658b1af4c27ba0a3f1a6fdb\n",
            "  Stored in directory: /root/.cache/pip/wheels/14/2f/e7/b1df60d116db48f981dc3a8b320c9ba2d27d2526d5bad3579d\n",
            "  Building wheel for docopt (setup.py) ... \u001b[?25l\u001b[?25hdone\n",
            "  Created wheel for docopt: filename=docopt-0.6.2-py2.py3-none-any.whl size=13707 sha256=c72da103a79e1091bfd464337230c1b0ad05c348f3f85c0712a98b2e1bba2f1f\n",
            "  Stored in directory: /root/.cache/pip/wheels/fc/ab/d4/5da2067ac95b36618c629a5f93f809425700506f72c9732fac\n",
            "Successfully built metapub docopt\n",
            "Installing collected packages: docopt, distlib, virtualenv, unidecode, rapidfuzz, pyproject-api, humanfriendly, cssselect, colorama, chardet, tox, Levenshtein, habanero, eutils, coloredlogs, python-Levenshtein, metapub\n",
            "  Attempting uninstall: chardet\n",
            "    Found existing installation: chardet 4.0.0\n",
            "    Uninstalling chardet-4.0.0:\n",
            "      Successfully uninstalled chardet-4.0.0\n",
            "Successfully installed Levenshtein-0.21.0 chardet-5.1.0 colorama-0.4.6 coloredlogs-15.0.1 cssselect-1.2.0 distlib-0.3.6 docopt-0.6.2 eutils-0.6.0 habanero-1.2.3 humanfriendly-10.0 metapub-0.5.5 pyproject-api-1.5.1 python-Levenshtein-0.21.0 rapidfuzz-3.0.0 tox-4.5.1 unidecode-1.3.6 virtualenv-20.23.0\n"
          ]
        }
      ],
      "source": [
        "!pip install metapub"
      ]
    },
    {
      "cell_type": "code",
      "source": [
        "import pandas as pd\n",
        "from metapub import PubMedFetcher\n",
        "from metapub import FindIt\n",
        "import requests\n",
        "import shutil\n",
        "import os"
      ],
      "metadata": {
        "id": "WG8OLHi_IQBG"
      },
      "execution_count": 71,
      "outputs": []
    },
    {
      "cell_type": "code",
      "source": [
        "keyword=\"cpic\"\n",
        "num_of_articles=10"
      ],
      "metadata": {
        "id": "ZyZ-UpGuIb7C"
      },
      "execution_count": 6,
      "outputs": []
    },
    {
      "cell_type": "code",
      "source": [
        "save_directory = f\"pubmed_{keyword}\"\n",
        "\n",
        "if not os.path.exists(save_directory):\n",
        "    os.makedirs(save_directory)"
      ],
      "metadata": {
        "id": "Q32Cux0Hz0Bq"
      },
      "execution_count": 87,
      "outputs": []
    },
    {
      "cell_type": "code",
      "source": [
        "fetch = PubMedFetcher()"
      ],
      "metadata": {
        "id": "g90S3LoHIocW"
      },
      "execution_count": 88,
      "outputs": []
    },
    {
      "cell_type": "code",
      "source": [
        "pmids = fetch.pmids_for_query(keyword, retmax=num_of_articles)"
      ],
      "metadata": {
        "id": "ijIk6fZ2Iwok"
      },
      "execution_count": 89,
      "outputs": []
    },
    {
      "cell_type": "code",
      "source": [
        "collected_data = []"
      ],
      "metadata": {
        "id": "vofJSkUW8WlI"
      },
      "execution_count": 90,
      "outputs": []
    },
    {
      "cell_type": "code",
      "source": [
        "for pmid in pmids:\n",
        "\n",
        "  article = fetch.article_by_pmid(pmid)\n",
        "\n",
        "  data = {}\n",
        "\n",
        "  data[\"PMID\"] = pmid\n",
        "  data[\"Title\"] = article.title\n",
        "  data[\"Abstract\"] = article.abstract\n",
        "  data[\"Author\"] = article.authors\n",
        "  data[\"Year\"] = article.year\n",
        "  data[\"Volume\"] = article.volume\n",
        "  data[\"Issue\"] = article.issue\n",
        "  data[\"Journal\"] = article.journal\n",
        "  data[\"Citation\"] = article.citation\n",
        "  data[\"Link\"] = \"https://pubmed.ncbi.nlm.nih.gov/\"+pmid+\"/\"\n",
        "\n",
        "  collected_data.append(data) \n",
        "\n"
      ],
      "metadata": {
        "id": "QKzayImS3ri6"
      },
      "execution_count": 91,
      "outputs": []
    },
    {
      "cell_type": "code",
      "source": [
        "df = pd.DataFrame(collected_data)"
      ],
      "metadata": {
        "id": "RSUakmSo3bHx"
      },
      "execution_count": 92,
      "outputs": []
    },
    {
      "cell_type": "code",
      "source": [
        "df.head(2)"
      ],
      "metadata": {
        "colab": {
          "base_uri": "https://localhost:8080/",
          "height": 223
        },
        "id": "7umfarq29OHO",
        "outputId": "9da25bdb-7409-4bd5-feda-d8d54fce6a20"
      },
      "execution_count": 93,
      "outputs": [
        {
          "output_type": "execute_result",
          "data": {
            "text/plain": [
              "       PMID                                              Title  \\\n",
              "0  37155913  The Contribution of Pharmacogenetic Drug Inter...   \n",
              "1  37127518  The Prevalence and Features of Medications Wit...   \n",
              "\n",
              "                                            Abstract  \\\n",
              "0  Context: Clinical Pharmacogenetics Implementat...   \n",
              "1  BACKGROUND: Genetic variants are associated wi...   \n",
              "\n",
              "                                              Author  Year Volume  \\\n",
              "0  [David S, Meltzer D, Singh L, Hulick P, Pruitt...  2023   None   \n",
              "1               [Chang YL, Hsiao TH, Wu MF, Chen CH]  2023   None   \n",
              "\n",
              "         Issue          Journal  \\\n",
              "0  21(Suppl 1)      Ann Fam Med   \n",
              "1         None  Transplant Proc   \n",
              "\n",
              "                                            Citation  \\\n",
              "0  David S, et al. The Contribution of Pharmacoge...   \n",
              "1  Chang YL, et al. The Prevalence and Features o...   \n",
              "\n",
              "                                        Link  \n",
              "0  https://pubmed.ncbi.nlm.nih.gov/37155913/  \n",
              "1  https://pubmed.ncbi.nlm.nih.gov/37127518/  "
            ],
            "text/html": [
              "\n",
              "  <div id=\"df-8e18bc09-b1fb-4019-907d-011486bbbaac\">\n",
              "    <div class=\"colab-df-container\">\n",
              "      <div>\n",
              "<style scoped>\n",
              "    .dataframe tbody tr th:only-of-type {\n",
              "        vertical-align: middle;\n",
              "    }\n",
              "\n",
              "    .dataframe tbody tr th {\n",
              "        vertical-align: top;\n",
              "    }\n",
              "\n",
              "    .dataframe thead th {\n",
              "        text-align: right;\n",
              "    }\n",
              "</style>\n",
              "<table border=\"1\" class=\"dataframe\">\n",
              "  <thead>\n",
              "    <tr style=\"text-align: right;\">\n",
              "      <th></th>\n",
              "      <th>PMID</th>\n",
              "      <th>Title</th>\n",
              "      <th>Abstract</th>\n",
              "      <th>Author</th>\n",
              "      <th>Year</th>\n",
              "      <th>Volume</th>\n",
              "      <th>Issue</th>\n",
              "      <th>Journal</th>\n",
              "      <th>Citation</th>\n",
              "      <th>Link</th>\n",
              "    </tr>\n",
              "  </thead>\n",
              "  <tbody>\n",
              "    <tr>\n",
              "      <th>0</th>\n",
              "      <td>37155913</td>\n",
              "      <td>The Contribution of Pharmacogenetic Drug Inter...</td>\n",
              "      <td>Context: Clinical Pharmacogenetics Implementat...</td>\n",
              "      <td>[David S, Meltzer D, Singh L, Hulick P, Pruitt...</td>\n",
              "      <td>2023</td>\n",
              "      <td>None</td>\n",
              "      <td>21(Suppl 1)</td>\n",
              "      <td>Ann Fam Med</td>\n",
              "      <td>David S, et al. The Contribution of Pharmacoge...</td>\n",
              "      <td>https://pubmed.ncbi.nlm.nih.gov/37155913/</td>\n",
              "    </tr>\n",
              "    <tr>\n",
              "      <th>1</th>\n",
              "      <td>37127518</td>\n",
              "      <td>The Prevalence and Features of Medications Wit...</td>\n",
              "      <td>BACKGROUND: Genetic variants are associated wi...</td>\n",
              "      <td>[Chang YL, Hsiao TH, Wu MF, Chen CH]</td>\n",
              "      <td>2023</td>\n",
              "      <td>None</td>\n",
              "      <td>None</td>\n",
              "      <td>Transplant Proc</td>\n",
              "      <td>Chang YL, et al. The Prevalence and Features o...</td>\n",
              "      <td>https://pubmed.ncbi.nlm.nih.gov/37127518/</td>\n",
              "    </tr>\n",
              "  </tbody>\n",
              "</table>\n",
              "</div>\n",
              "      <button class=\"colab-df-convert\" onclick=\"convertToInteractive('df-8e18bc09-b1fb-4019-907d-011486bbbaac')\"\n",
              "              title=\"Convert this dataframe to an interactive table.\"\n",
              "              style=\"display:none;\">\n",
              "        \n",
              "  <svg xmlns=\"http://www.w3.org/2000/svg\" height=\"24px\"viewBox=\"0 0 24 24\"\n",
              "       width=\"24px\">\n",
              "    <path d=\"M0 0h24v24H0V0z\" fill=\"none\"/>\n",
              "    <path d=\"M18.56 5.44l.94 2.06.94-2.06 2.06-.94-2.06-.94-.94-2.06-.94 2.06-2.06.94zm-11 1L8.5 8.5l.94-2.06 2.06-.94-2.06-.94L8.5 2.5l-.94 2.06-2.06.94zm10 10l.94 2.06.94-2.06 2.06-.94-2.06-.94-.94-2.06-.94 2.06-2.06.94z\"/><path d=\"M17.41 7.96l-1.37-1.37c-.4-.4-.92-.59-1.43-.59-.52 0-1.04.2-1.43.59L10.3 9.45l-7.72 7.72c-.78.78-.78 2.05 0 2.83L4 21.41c.39.39.9.59 1.41.59.51 0 1.02-.2 1.41-.59l7.78-7.78 2.81-2.81c.8-.78.8-2.07 0-2.86zM5.41 20L4 18.59l7.72-7.72 1.47 1.35L5.41 20z\"/>\n",
              "  </svg>\n",
              "      </button>\n",
              "      \n",
              "  <style>\n",
              "    .colab-df-container {\n",
              "      display:flex;\n",
              "      flex-wrap:wrap;\n",
              "      gap: 12px;\n",
              "    }\n",
              "\n",
              "    .colab-df-convert {\n",
              "      background-color: #E8F0FE;\n",
              "      border: none;\n",
              "      border-radius: 50%;\n",
              "      cursor: pointer;\n",
              "      display: none;\n",
              "      fill: #1967D2;\n",
              "      height: 32px;\n",
              "      padding: 0 0 0 0;\n",
              "      width: 32px;\n",
              "    }\n",
              "\n",
              "    .colab-df-convert:hover {\n",
              "      background-color: #E2EBFA;\n",
              "      box-shadow: 0px 1px 2px rgba(60, 64, 67, 0.3), 0px 1px 3px 1px rgba(60, 64, 67, 0.15);\n",
              "      fill: #174EA6;\n",
              "    }\n",
              "\n",
              "    [theme=dark] .colab-df-convert {\n",
              "      background-color: #3B4455;\n",
              "      fill: #D2E3FC;\n",
              "    }\n",
              "\n",
              "    [theme=dark] .colab-df-convert:hover {\n",
              "      background-color: #434B5C;\n",
              "      box-shadow: 0px 1px 3px 1px rgba(0, 0, 0, 0.15);\n",
              "      filter: drop-shadow(0px 1px 2px rgba(0, 0, 0, 0.3));\n",
              "      fill: #FFFFFF;\n",
              "    }\n",
              "  </style>\n",
              "\n",
              "      <script>\n",
              "        const buttonEl =\n",
              "          document.querySelector('#df-8e18bc09-b1fb-4019-907d-011486bbbaac button.colab-df-convert');\n",
              "        buttonEl.style.display =\n",
              "          google.colab.kernel.accessAllowed ? 'block' : 'none';\n",
              "\n",
              "        async function convertToInteractive(key) {\n",
              "          const element = document.querySelector('#df-8e18bc09-b1fb-4019-907d-011486bbbaac');\n",
              "          const dataTable =\n",
              "            await google.colab.kernel.invokeFunction('convertToInteractive',\n",
              "                                                     [key], {});\n",
              "          if (!dataTable) return;\n",
              "\n",
              "          const docLinkHtml = 'Like what you see? Visit the ' +\n",
              "            '<a target=\"_blank\" href=https://colab.research.google.com/notebooks/data_table.ipynb>data table notebook</a>'\n",
              "            + ' to learn more about interactive tables.';\n",
              "          element.innerHTML = '';\n",
              "          dataTable['output_type'] = 'display_data';\n",
              "          await google.colab.output.renderOutput(dataTable, element);\n",
              "          const docLink = document.createElement('div');\n",
              "          docLink.innerHTML = docLinkHtml;\n",
              "          element.appendChild(docLink);\n",
              "        }\n",
              "      </script>\n",
              "    </div>\n",
              "  </div>\n",
              "  "
            ]
          },
          "metadata": {},
          "execution_count": 93
        }
      ]
    },
    {
      "cell_type": "code",
      "source": [
        "pdf_url_or_reason = []\n",
        "pdf_url = []"
      ],
      "metadata": {
        "id": "fv74fm_XAtUs"
      },
      "execution_count": 94,
      "outputs": []
    },
    {
      "cell_type": "code",
      "source": [
        "for pmid in pmids:\n",
        "  src = FindIt(pmid)\n",
        "  if src.url is None:\n",
        "    pdf_url_or_reason.append(src.reason)\n",
        "  else: \n",
        "    pdf_url_or_reason.append(src.url)\n",
        "    pdf_url.append((pmid, src.url))"
      ],
      "metadata": {
        "id": "T-MJmsGe-AFi"
      },
      "execution_count": 95,
      "outputs": []
    },
    {
      "cell_type": "code",
      "source": [
        "df[\"pdf-url\"] = pdf_url_or_reason"
      ],
      "metadata": {
        "id": "iKGESj4HA9zN"
      },
      "execution_count": 96,
      "outputs": []
    },
    {
      "cell_type": "code",
      "source": [
        "df.to_csv('pubmed_articles.csv')"
      ],
      "metadata": {
        "id": "zxiMS1BY9gmw"
      },
      "execution_count": 97,
      "outputs": []
    },
    {
      "cell_type": "code",
      "source": [
        "for pmid, url in pdf_url:\n",
        "\n",
        "  response = requests.get(url, allow_redirects=True)\n",
        "\n",
        "  with open(f\"{pmid}.pdf\", 'wb') as f:\n",
        "    f.write(response.content)\n",
        "\n",
        "    "
      ],
      "metadata": {
        "id": "ElZ29ShgBmLU"
      },
      "execution_count": 98,
      "outputs": []
    },
    {
      "cell_type": "markdown",
      "source": [
        "other resources for ideas how to extend my code\n",
        "\n",
        "https://github.com/billgreenwald/Pubmed-Batch-Download\n",
        "\n",
        "https://github.com/ddomingof/PubMed2PDF"
      ],
      "metadata": {
        "id": "FpsVQ_dRHpU0"
      }
    }
  ]
}